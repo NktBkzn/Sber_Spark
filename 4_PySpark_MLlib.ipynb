{
  "cells": [
    {
      "cell_type": "code",
      "source": [
        "from google.colab import drive\n",
        "drive.mount('/content/drive/')\n",
        "\n",
        "%cd drive/MyDrive/sber_risk_spark/lesson_4/"
      ],
      "metadata": {
        "colab": {
          "base_uri": "https://localhost:8080/"
        },
        "id": "ayYXZD8_fWOI",
        "outputId": "6d319c54-cb33-499b-9a14-90da6dbf2918"
      },
      "execution_count": 1,
      "outputs": [
        {
          "output_type": "stream",
          "name": "stdout",
          "text": [
            "Mounted at /content/drive/\n",
            "/content/drive/MyDrive/sber_risk_spark/lesson_4\n"
          ]
        }
      ]
    },
    {
      "cell_type": "code",
      "execution_count": 2,
      "metadata": {
        "colab": {
          "base_uri": "https://localhost:8080/"
        },
        "id": "aAfBJ5OQhcTu",
        "outputId": "86e2a40d-8859-4827-9d76-4958827d17a4"
      },
      "outputs": [
        {
          "output_type": "stream",
          "name": "stdout",
          "text": [
            "Collecting pyspark\n",
            "  Downloading pyspark-3.2.0.tar.gz (281.3 MB)\n",
            "\u001b[K     |████████████████████████████████| 281.3 MB 31 kB/s \n",
            "\u001b[?25hCollecting findspark\n",
            "  Downloading findspark-1.4.2-py2.py3-none-any.whl (4.2 kB)\n",
            "Collecting py4j==0.10.9.2\n",
            "  Downloading py4j-0.10.9.2-py2.py3-none-any.whl (198 kB)\n",
            "\u001b[K     |████████████████████████████████| 198 kB 49.4 MB/s \n",
            "\u001b[?25hBuilding wheels for collected packages: pyspark\n",
            "  Building wheel for pyspark (setup.py) ... \u001b[?25l\u001b[?25hdone\n",
            "  Created wheel for pyspark: filename=pyspark-3.2.0-py2.py3-none-any.whl size=281805912 sha256=6555d795ca65c3819ac90a5108b3fd7b61d9ccf82df673d5ea2389c8b0de456c\n",
            "  Stored in directory: /root/.cache/pip/wheels/0b/de/d2/9be5d59d7331c6c2a7c1b6d1a4f463ce107332b1ecd4e80718\n",
            "Successfully built pyspark\n",
            "Installing collected packages: py4j, pyspark, findspark\n",
            "Successfully installed findspark-1.4.2 py4j-0.10.9.2 pyspark-3.2.0\n"
          ]
        }
      ],
      "source": [
        "!pip install pyspark findspark"
      ]
    },
    {
      "cell_type": "code",
      "execution_count": 3,
      "metadata": {
        "id": "BNdat6SPhiEH"
      },
      "outputs": [],
      "source": [
        "from pyspark.sql import SparkSession\n",
        "from pyspark import SparkContext, SparkConf\n",
        "\n",
        "conf = SparkConf().set('spark.ui.port', '4050').set('spark.serializer', 'org.apache.spark.serializer.KryoSerializer')\\\n",
        "                  .set('spark.dynamicAllocation.enabled', 'true')\\\n",
        "                  .set('spark.shuffle.service.enabled', 'true') #трекер, чтобы возвращать ресурсы\n",
        "sc = SparkContext(conf=conf)\n",
        "spark = SparkSession.builder.master('local[*]').getOrCreate()"
      ]
    },
    {
      "cell_type": "markdown",
      "metadata": {
        "id": "FZORGQJAkELA"
      },
      "source": [
        "Анализировать будет датасет отсюда https://www.kaggle.com/shelvigarg/credit-card-buyers\n",
        "\n",
        "Definition\n",
        "\n",
        "ID - Unique Identifier for a row\n",
        "\n",
        "Gender - Gender of the Customer\n",
        "\n",
        "Age - Age of the Customer (in Years)\n",
        "\n",
        "Region_Code - Code of the Region for the customers\n",
        "\n",
        "Occupation - Occupation Type for the customer\n",
        "\n",
        "Channel_Code - Acquisition Channel Code for the Customer (Encoded)\n",
        "\n",
        "Vintage - Vintage for the Customer (In Months)\n",
        "\n",
        "Credit_Product - If the Customer has any active credit product (Home loan Personal loan, Credit Card etc.)\n",
        "\n",
        "AvgAccountBalance - Average Account Balance for the Customer in last 12 Months\n",
        "\n",
        "Is_Active - If the Customer is Active in last 3 Months"
      ]
    },
    {
      "cell_type": "markdown",
      "metadata": {
        "id": "YIgE50bSlRBK"
      },
      "source": [
        "Загрузим данные и посмотрим, что там внутри"
      ]
    },
    {
      "cell_type": "code",
      "execution_count": 4,
      "metadata": {
        "id": "tsUQHB1FjhPO"
      },
      "outputs": [],
      "source": [
        "data = spark.read.csv('credit_card_data.csv', header=True, inferSchema=True)"
      ]
    },
    {
      "cell_type": "code",
      "execution_count": 5,
      "metadata": {
        "colab": {
          "base_uri": "https://localhost:8080/"
        },
        "id": "YbvoQA6clcY-",
        "outputId": "53257847-6a66-4a65-bb6d-220332285c9b"
      },
      "outputs": [
        {
          "output_type": "stream",
          "name": "stdout",
          "text": [
            "root\n",
            " |-- ID: string (nullable = true)\n",
            " |-- Gender: string (nullable = true)\n",
            " |-- Age: integer (nullable = true)\n",
            " |-- Region_Code: string (nullable = true)\n",
            " |-- Occupation: string (nullable = true)\n",
            " |-- Channel_Code: string (nullable = true)\n",
            " |-- Vintage: integer (nullable = true)\n",
            " |-- Credit_Product: string (nullable = true)\n",
            " |-- Avg_Account_Balance: integer (nullable = true)\n",
            " |-- Is_Active: string (nullable = true)\n",
            " |-- Is_Lead: integer (nullable = true)\n",
            "\n"
          ]
        }
      ],
      "source": [
        "data.printSchema()"
      ]
    },
    {
      "cell_type": "code",
      "execution_count": 6,
      "metadata": {
        "colab": {
          "base_uri": "https://localhost:8080/"
        },
        "id": "4_sCeIsAlPoS",
        "outputId": "70e02c65-2a1a-4210-b1b0-3df0e6b6fd3d"
      },
      "outputs": [
        {
          "output_type": "stream",
          "name": "stdout",
          "text": [
            "+--------+------+---+-----------+-------------+------------+-------+--------------+-------------------+---------+-------+\n",
            "|      ID|Gender|Age|Region_Code|   Occupation|Channel_Code|Vintage|Credit_Product|Avg_Account_Balance|Is_Active|Is_Lead|\n",
            "+--------+------+---+-----------+-------------+------------+-------+--------------+-------------------+---------+-------+\n",
            "|NNVBBKZB|Female| 73|      RG268|        Other|          X3|     43|            No|            1045696|       No|      0|\n",
            "|IDD62UNG|Female| 30|      RG277|     Salaried|          X1|     32|            No|             581988|       No|      0|\n",
            "|HD3DSEMC|Female| 56|      RG268|Self_Employed|          X3|     26|            No|            1484315|      Yes|      0|\n",
            "|BF3NC7KV|  Male| 34|      RG270|     Salaried|          X1|     19|            No|             470454|       No|      0|\n",
            "|TEASRWXV|Female| 30|      RG282|     Salaried|          X1|     33|            No|             886787|       No|      0|\n",
            "|ACUTYTWS|  Male| 56|      RG261|Self_Employed|          X1|     32|            No|             544163|      Yes|      0|\n",
            "|ETQCZFEJ|  Male| 62|      RG282|        Other|          X3|     20|          null|            1056750|      Yes|      1|\n",
            "|JJNJUQMQ|Female| 48|      RG265|Self_Employed|          X3|     13|            No|             444724|      Yes|      0|\n",
            "|ZMQFYKCB|Female| 40|      RG283|Self_Employed|          X2|     38|            No|            1274284|       No|      0|\n",
            "|NVKTFBA2|Female| 55|      RG268|Self_Employed|          X2|     49|           Yes|            2014239|       No|      0|\n",
            "|NVC424KZ|  Male| 53|      RG254|Self_Employed|          X3|    123|            No|             980664|      Yes|      0|\n",
            "|GZ5TMYIR|  Male| 27|      RG270|Self_Employed|          X1|     14|           Yes|             502787|       No|      0|\n",
            "|FCPEEIY3|Female| 27|      RG277|     Salaried|          X1|     20|            No|             811591|      Yes|      0|\n",
            "|KCE7JSFN|  Male| 31|      RG254|     Salaried|          X1|     31|           Yes|             938754|       No|      0|\n",
            "|EMEEHHBK|  Male| 79|      RG277|        Other|          X3|     57|            No|             832185|      Yes|      0|\n",
            "|UJ2NJKKL|  Male| 33|      RG268|Self_Employed|          X2|     69|          null|             517063|      Yes|      1|\n",
            "|CNGSPYWS|Female| 46|      RG268|        Other|          X3|     97|           Yes|            2282502|       No|      1|\n",
            "|VH7NBNNQ|Female| 59|      RG283|        Other|          X3|     15|           Yes|            2384692|       No|      1|\n",
            "|HDNJXDWC|Female| 65|      RG277|        Other|          X2|     20|            No|             341573|      Yes|      0|\n",
            "|BDOKI4CP|Female| 37|      RG269|        Other|          X1|     63|            No|             633484|      Yes|      0|\n",
            "+--------+------+---+-----------+-------------+------------+-------+--------------+-------------------+---------+-------+\n",
            "only showing top 20 rows\n",
            "\n"
          ]
        }
      ],
      "source": [
        "data.show()"
      ]
    },
    {
      "cell_type": "markdown",
      "metadata": {
        "id": "KXN0MI0xlx3N"
      },
      "source": [
        "Посмотрим различные базовые вещи"
      ]
    },
    {
      "cell_type": "code",
      "execution_count": 7,
      "metadata": {
        "id": "j3wkDh42mATz"
      },
      "outputs": [],
      "source": [
        "from pyspark.sql.functions import col,isnan, when, count"
      ]
    },
    {
      "cell_type": "code",
      "execution_count": 8,
      "metadata": {
        "colab": {
          "base_uri": "https://localhost:8080/"
        },
        "id": "YeJKCEzbmErU",
        "outputId": "e55cf304-503f-4726-d477-2ceaeffd83c0"
      },
      "outputs": [
        {
          "output_type": "stream",
          "name": "stdout",
          "text": [
            "+---+------+---+-----------+----------+------------+-------+--------------+-------------------+---------+-------+\n",
            "| ID|Gender|Age|Region_Code|Occupation|Channel_Code|Vintage|Credit_Product|Avg_Account_Balance|Is_Active|Is_Lead|\n",
            "+---+------+---+-----------+----------+------------+-------+--------------+-------------------+---------+-------+\n",
            "|  0|     0|  0|          0|         0|           0|      0|         29325|                  0|        0|      0|\n",
            "+---+------+---+-----------+----------+------------+-------+--------------+-------------------+---------+-------+\n",
            "\n"
          ]
        }
      ],
      "source": [
        "data.select([count(when(isnan(c) | col(c).isNull(), c)).alias(c) for c in data.columns]).show()"
      ]
    },
    {
      "cell_type": "markdown",
      "metadata": {
        "id": "Dika1L3qmLuF"
      },
      "source": [
        "Пропуски только в кредитном продукте, логично заметь на тип, что кредита нет"
      ]
    },
    {
      "cell_type": "code",
      "execution_count": 9,
      "metadata": {
        "colab": {
          "base_uri": "https://localhost:8080/"
        },
        "id": "w20frxn8m3Nw",
        "outputId": "ee01729d-2dcf-41eb-c59c-ff181447439a"
      },
      "outputs": [
        {
          "output_type": "stream",
          "name": "stdout",
          "text": [
            "+--------------+------+\n",
            "|Credit_Product| count|\n",
            "+--------------+------+\n",
            "|            No|144357|\n",
            "|           Yes| 72043|\n",
            "|          null| 29325|\n",
            "+--------------+------+\n",
            "\n"
          ]
        }
      ],
      "source": [
        "data.select(col('Credit_Product')).groupBy('Credit_Product').count().show()"
      ]
    },
    {
      "cell_type": "code",
      "execution_count": 10,
      "metadata": {
        "id": "PhfHAQs8mKmn"
      },
      "outputs": [],
      "source": [
        "data = data.fillna({'Credit_Product': 'No'})"
      ]
    },
    {
      "cell_type": "markdown",
      "metadata": {
        "id": "b6fVb5RAnQ2u"
      },
      "source": [
        "Проверим"
      ]
    },
    {
      "cell_type": "code",
      "execution_count": 11,
      "metadata": {
        "colab": {
          "base_uri": "https://localhost:8080/"
        },
        "id": "q8T1WGqSnSR-",
        "outputId": "f3b7dd8e-b3d2-4ad8-d196-5ce83c41160b"
      },
      "outputs": [
        {
          "output_type": "stream",
          "name": "stdout",
          "text": [
            "+--------------+------+\n",
            "|Credit_Product| count|\n",
            "+--------------+------+\n",
            "|            No|173682|\n",
            "|           Yes| 72043|\n",
            "+--------------+------+\n",
            "\n"
          ]
        }
      ],
      "source": [
        "data.select(col('Credit_Product')).groupBy('Credit_Product').count().show()"
      ]
    },
    {
      "cell_type": "markdown",
      "metadata": {
        "id": "KtDur_eFnU9M"
      },
      "source": [
        "Посмотри на данные с точки зрения дисбаланса классов"
      ]
    },
    {
      "cell_type": "code",
      "execution_count": 12,
      "metadata": {
        "colab": {
          "base_uri": "https://localhost:8080/"
        },
        "id": "PtIMjIMbnisg",
        "outputId": "12c2b32b-f7c1-475b-ebf9-f182be6d1aa8"
      },
      "outputs": [
        {
          "output_type": "execute_result",
          "data": {
            "text/plain": [
              "245725"
            ]
          },
          "metadata": {},
          "execution_count": 12
        }
      ],
      "source": [
        "data.count()"
      ]
    },
    {
      "cell_type": "code",
      "execution_count": 13,
      "metadata": {
        "id": "qyX_QHI9oKfP"
      },
      "outputs": [],
      "source": [
        "import pyspark.sql.functions as F"
      ]
    },
    {
      "cell_type": "code",
      "execution_count": 14,
      "metadata": {
        "colab": {
          "base_uri": "https://localhost:8080/"
        },
        "id": "ZFJ2i3UklxJH",
        "outputId": "eb78dcde-fd1b-40c9-9f2a-080f717981ab"
      },
      "outputs": [
        {
          "output_type": "stream",
          "name": "stdout",
          "text": [
            "+-------+-----+\n",
            "|Is_Lead|count|\n",
            "+-------+-----+\n",
            "|      1| 0.24|\n",
            "|      0| 0.76|\n",
            "+-------+-----+\n",
            "\n"
          ]
        }
      ],
      "source": [
        "data.select(col('Is_Lead'))\\\n",
        "    .groupBy('Is_Lead')\\\n",
        "    .count()\\\n",
        "    .withColumn('count', F.round(col('count') / data.count(), 2))\\\n",
        "    .show()"
      ]
    },
    {
      "cell_type": "markdown",
      "metadata": {
        "id": "8C4-7JsCotMW"
      },
      "source": [
        "Ладно, достаточно, мы тут сейчас говорим про MLlib, всякие анализы - тема прошлого семинара"
      ]
    },
    {
      "cell_type": "markdown",
      "metadata": {
        "id": "hFW-5rVezUzj"
      },
      "source": [
        "**Некоторые преобразования данных**"
      ]
    },
    {
      "cell_type": "markdown",
      "metadata": {
        "id": "DIVOhaAJ2MYW"
      },
      "source": [
        "Начнем с простой обработки категориальных переменных"
      ]
    },
    {
      "cell_type": "code",
      "execution_count": 15,
      "metadata": {
        "id": "Ol8QdvOIza7d"
      },
      "outputs": [],
      "source": [
        "from pyspark.ml.feature import StringIndexer, IndexToString, OneHotEncoder"
      ]
    },
    {
      "cell_type": "code",
      "execution_count": 16,
      "metadata": {
        "colab": {
          "base_uri": "https://localhost:8080/"
        },
        "id": "VPOBb0j_zrmL",
        "outputId": "bb9fcabe-b4c8-461e-9632-776e0278013c"
      },
      "outputs": [
        {
          "output_type": "stream",
          "name": "stdout",
          "text": [
            "+--------+------+---+-----------+-------------+------------+-------+--------------+-------------------+---------+-------+-----------+\n",
            "|      ID|Gender|Age|Region_Code|   Occupation|Channel_Code|Vintage|Credit_Product|Avg_Account_Balance|Is_Active|Is_Lead|GenderIndex|\n",
            "+--------+------+---+-----------+-------------+------------+-------+--------------+-------------------+---------+-------+-----------+\n",
            "|NNVBBKZB|Female| 73|      RG268|        Other|          X3|     43|            No|            1045696|       No|      0|        1.0|\n",
            "|IDD62UNG|Female| 30|      RG277|     Salaried|          X1|     32|            No|             581988|       No|      0|        1.0|\n",
            "|HD3DSEMC|Female| 56|      RG268|Self_Employed|          X3|     26|            No|            1484315|      Yes|      0|        1.0|\n",
            "|BF3NC7KV|  Male| 34|      RG270|     Salaried|          X1|     19|            No|             470454|       No|      0|        0.0|\n",
            "|TEASRWXV|Female| 30|      RG282|     Salaried|          X1|     33|            No|             886787|       No|      0|        1.0|\n",
            "|ACUTYTWS|  Male| 56|      RG261|Self_Employed|          X1|     32|            No|             544163|      Yes|      0|        0.0|\n",
            "|ETQCZFEJ|  Male| 62|      RG282|        Other|          X3|     20|            No|            1056750|      Yes|      1|        0.0|\n",
            "|JJNJUQMQ|Female| 48|      RG265|Self_Employed|          X3|     13|            No|             444724|      Yes|      0|        1.0|\n",
            "|ZMQFYKCB|Female| 40|      RG283|Self_Employed|          X2|     38|            No|            1274284|       No|      0|        1.0|\n",
            "|NVKTFBA2|Female| 55|      RG268|Self_Employed|          X2|     49|           Yes|            2014239|       No|      0|        1.0|\n",
            "|NVC424KZ|  Male| 53|      RG254|Self_Employed|          X3|    123|            No|             980664|      Yes|      0|        0.0|\n",
            "|GZ5TMYIR|  Male| 27|      RG270|Self_Employed|          X1|     14|           Yes|             502787|       No|      0|        0.0|\n",
            "|FCPEEIY3|Female| 27|      RG277|     Salaried|          X1|     20|            No|             811591|      Yes|      0|        1.0|\n",
            "|KCE7JSFN|  Male| 31|      RG254|     Salaried|          X1|     31|           Yes|             938754|       No|      0|        0.0|\n",
            "|EMEEHHBK|  Male| 79|      RG277|        Other|          X3|     57|            No|             832185|      Yes|      0|        0.0|\n",
            "|UJ2NJKKL|  Male| 33|      RG268|Self_Employed|          X2|     69|            No|             517063|      Yes|      1|        0.0|\n",
            "|CNGSPYWS|Female| 46|      RG268|        Other|          X3|     97|           Yes|            2282502|       No|      1|        1.0|\n",
            "|VH7NBNNQ|Female| 59|      RG283|        Other|          X3|     15|           Yes|            2384692|       No|      1|        1.0|\n",
            "|HDNJXDWC|Female| 65|      RG277|        Other|          X2|     20|            No|             341573|      Yes|      0|        1.0|\n",
            "|BDOKI4CP|Female| 37|      RG269|        Other|          X1|     63|            No|             633484|      Yes|      0|        1.0|\n",
            "+--------+------+---+-----------+-------------+------------+-------+--------------+-------------------+---------+-------+-----------+\n",
            "only showing top 20 rows\n",
            "\n"
          ]
        }
      ],
      "source": [
        "gender_indexer = StringIndexer(inputCol=\"Gender\", outputCol=\"GenderIndex\")\n",
        "gender_indexer = gender_indexer.fit(data)\n",
        "data = gender_indexer.transform(data)\n",
        "\n",
        "data.show()"
      ]
    },
    {
      "cell_type": "code",
      "execution_count": 17,
      "metadata": {
        "colab": {
          "base_uri": "https://localhost:8080/"
        },
        "id": "ZAW5y21P0y7e",
        "outputId": "e7896807-2499-4913-8844-cd0150ba7cc4"
      },
      "outputs": [
        {
          "output_type": "execute_result",
          "data": {
            "text/plain": [
              "['Male', 'Female']"
            ]
          },
          "metadata": {},
          "execution_count": 17
        }
      ],
      "source": [
        "gender_indexer.labels"
      ]
    },
    {
      "cell_type": "markdown",
      "metadata": {
        "id": "EwrZceE71Xwk"
      },
      "source": [
        "Обратная трансформация доступна через метод"
      ]
    },
    {
      "cell_type": "code",
      "execution_count": 18,
      "metadata": {
        "colab": {
          "base_uri": "https://localhost:8080/"
        },
        "id": "nWclZb5s08ay",
        "outputId": "7443a0be-156a-4783-bbf1-6987a3585a31"
      },
      "outputs": [
        {
          "output_type": "stream",
          "name": "stdout",
          "text": [
            "+--------+------+---+-----------+-------------+------------+-------+--------------+-------------------+---------+-------+-----------+--------------+\n",
            "|      ID|Gender|Age|Region_Code|   Occupation|Channel_Code|Vintage|Credit_Product|Avg_Account_Balance|Is_Active|Is_Lead|GenderIndex|originalGender|\n",
            "+--------+------+---+-----------+-------------+------------+-------+--------------+-------------------+---------+-------+-----------+--------------+\n",
            "|NNVBBKZB|Female| 73|      RG268|        Other|          X3|     43|            No|            1045696|       No|      0|        1.0|        Female|\n",
            "|IDD62UNG|Female| 30|      RG277|     Salaried|          X1|     32|            No|             581988|       No|      0|        1.0|        Female|\n",
            "|HD3DSEMC|Female| 56|      RG268|Self_Employed|          X3|     26|            No|            1484315|      Yes|      0|        1.0|        Female|\n",
            "|BF3NC7KV|  Male| 34|      RG270|     Salaried|          X1|     19|            No|             470454|       No|      0|        0.0|          Male|\n",
            "|TEASRWXV|Female| 30|      RG282|     Salaried|          X1|     33|            No|             886787|       No|      0|        1.0|        Female|\n",
            "|ACUTYTWS|  Male| 56|      RG261|Self_Employed|          X1|     32|            No|             544163|      Yes|      0|        0.0|          Male|\n",
            "|ETQCZFEJ|  Male| 62|      RG282|        Other|          X3|     20|            No|            1056750|      Yes|      1|        0.0|          Male|\n",
            "|JJNJUQMQ|Female| 48|      RG265|Self_Employed|          X3|     13|            No|             444724|      Yes|      0|        1.0|        Female|\n",
            "|ZMQFYKCB|Female| 40|      RG283|Self_Employed|          X2|     38|            No|            1274284|       No|      0|        1.0|        Female|\n",
            "|NVKTFBA2|Female| 55|      RG268|Self_Employed|          X2|     49|           Yes|            2014239|       No|      0|        1.0|        Female|\n",
            "|NVC424KZ|  Male| 53|      RG254|Self_Employed|          X3|    123|            No|             980664|      Yes|      0|        0.0|          Male|\n",
            "|GZ5TMYIR|  Male| 27|      RG270|Self_Employed|          X1|     14|           Yes|             502787|       No|      0|        0.0|          Male|\n",
            "|FCPEEIY3|Female| 27|      RG277|     Salaried|          X1|     20|            No|             811591|      Yes|      0|        1.0|        Female|\n",
            "|KCE7JSFN|  Male| 31|      RG254|     Salaried|          X1|     31|           Yes|             938754|       No|      0|        0.0|          Male|\n",
            "|EMEEHHBK|  Male| 79|      RG277|        Other|          X3|     57|            No|             832185|      Yes|      0|        0.0|          Male|\n",
            "|UJ2NJKKL|  Male| 33|      RG268|Self_Employed|          X2|     69|            No|             517063|      Yes|      1|        0.0|          Male|\n",
            "|CNGSPYWS|Female| 46|      RG268|        Other|          X3|     97|           Yes|            2282502|       No|      1|        1.0|        Female|\n",
            "|VH7NBNNQ|Female| 59|      RG283|        Other|          X3|     15|           Yes|            2384692|       No|      1|        1.0|        Female|\n",
            "|HDNJXDWC|Female| 65|      RG277|        Other|          X2|     20|            No|             341573|      Yes|      0|        1.0|        Female|\n",
            "|BDOKI4CP|Female| 37|      RG269|        Other|          X1|     63|            No|             633484|      Yes|      0|        1.0|        Female|\n",
            "+--------+------+---+-----------+-------------+------------+-------+--------------+-------------------+---------+-------+-----------+--------------+\n",
            "only showing top 20 rows\n",
            "\n"
          ]
        }
      ],
      "source": [
        "converter = IndexToString(inputCol=\"GenderIndex\", outputCol=\"originalGender\")\n",
        "data = converter.transform(data)\n",
        "data.show()"
      ]
    },
    {
      "cell_type": "markdown",
      "metadata": {
        "id": "2_xa6Egj10ts"
      },
      "source": [
        "Давайте аналогично поступим с каналом продаж и типом занятости"
      ]
    },
    {
      "cell_type": "code",
      "execution_count": 19,
      "metadata": {
        "colab": {
          "base_uri": "https://localhost:8080/"
        },
        "id": "E15ddrq80S3V",
        "outputId": "d6d9d84e-47be-4aaf-d375-efc4ca255fb9"
      },
      "outputs": [
        {
          "output_type": "stream",
          "name": "stdout",
          "text": [
            "+--------+------+---+-----------+-------------+------------+-------+--------------+-------------------+---------+-------+-----------+--------------+---------------+------------+\n",
            "|      ID|Gender|Age|Region_Code|   Occupation|Channel_Code|Vintage|Credit_Product|Avg_Account_Balance|Is_Active|Is_Lead|GenderIndex|originalGender|OccupationIndex|ChannelIndex|\n",
            "+--------+------+---+-----------+-------------+------------+-------+--------------+-------------------+---------+-------+-----------+--------------+---------------+------------+\n",
            "|NNVBBKZB|Female| 73|      RG268|        Other|          X3|     43|            No|            1045696|       No|      0|        1.0|        Female|            2.0|         1.0|\n",
            "|IDD62UNG|Female| 30|      RG277|     Salaried|          X1|     32|            No|             581988|       No|      0|        1.0|        Female|            1.0|         0.0|\n",
            "|HD3DSEMC|Female| 56|      RG268|Self_Employed|          X3|     26|            No|            1484315|      Yes|      0|        1.0|        Female|            0.0|         1.0|\n",
            "|BF3NC7KV|  Male| 34|      RG270|     Salaried|          X1|     19|            No|             470454|       No|      0|        0.0|          Male|            1.0|         0.0|\n",
            "|TEASRWXV|Female| 30|      RG282|     Salaried|          X1|     33|            No|             886787|       No|      0|        1.0|        Female|            1.0|         0.0|\n",
            "|ACUTYTWS|  Male| 56|      RG261|Self_Employed|          X1|     32|            No|             544163|      Yes|      0|        0.0|          Male|            0.0|         0.0|\n",
            "|ETQCZFEJ|  Male| 62|      RG282|        Other|          X3|     20|            No|            1056750|      Yes|      1|        0.0|          Male|            2.0|         1.0|\n",
            "|JJNJUQMQ|Female| 48|      RG265|Self_Employed|          X3|     13|            No|             444724|      Yes|      0|        1.0|        Female|            0.0|         1.0|\n",
            "|ZMQFYKCB|Female| 40|      RG283|Self_Employed|          X2|     38|            No|            1274284|       No|      0|        1.0|        Female|            0.0|         2.0|\n",
            "|NVKTFBA2|Female| 55|      RG268|Self_Employed|          X2|     49|           Yes|            2014239|       No|      0|        1.0|        Female|            0.0|         2.0|\n",
            "|NVC424KZ|  Male| 53|      RG254|Self_Employed|          X3|    123|            No|             980664|      Yes|      0|        0.0|          Male|            0.0|         1.0|\n",
            "|GZ5TMYIR|  Male| 27|      RG270|Self_Employed|          X1|     14|           Yes|             502787|       No|      0|        0.0|          Male|            0.0|         0.0|\n",
            "|FCPEEIY3|Female| 27|      RG277|     Salaried|          X1|     20|            No|             811591|      Yes|      0|        1.0|        Female|            1.0|         0.0|\n",
            "|KCE7JSFN|  Male| 31|      RG254|     Salaried|          X1|     31|           Yes|             938754|       No|      0|        0.0|          Male|            1.0|         0.0|\n",
            "|EMEEHHBK|  Male| 79|      RG277|        Other|          X3|     57|            No|             832185|      Yes|      0|        0.0|          Male|            2.0|         1.0|\n",
            "|UJ2NJKKL|  Male| 33|      RG268|Self_Employed|          X2|     69|            No|             517063|      Yes|      1|        0.0|          Male|            0.0|         2.0|\n",
            "|CNGSPYWS|Female| 46|      RG268|        Other|          X3|     97|           Yes|            2282502|       No|      1|        1.0|        Female|            2.0|         1.0|\n",
            "|VH7NBNNQ|Female| 59|      RG283|        Other|          X3|     15|           Yes|            2384692|       No|      1|        1.0|        Female|            2.0|         1.0|\n",
            "|HDNJXDWC|Female| 65|      RG277|        Other|          X2|     20|            No|             341573|      Yes|      0|        1.0|        Female|            2.0|         2.0|\n",
            "|BDOKI4CP|Female| 37|      RG269|        Other|          X1|     63|            No|             633484|      Yes|      0|        1.0|        Female|            2.0|         0.0|\n",
            "+--------+------+---+-----------+-------------+------------+-------+--------------+-------------------+---------+-------+-----------+--------------+---------------+------------+\n",
            "only showing top 20 rows\n",
            "\n"
          ]
        }
      ],
      "source": [
        "occupation_indexer = StringIndexer(inputCol=\"Occupation\", outputCol=\"OccupationIndex\")\n",
        "occupation_indexer = occupation_indexer.fit(data)\n",
        "data = occupation_indexer.transform(data)\n",
        "\n",
        "channel_indexer = StringIndexer(inputCol=\"Channel_Code\", outputCol=\"ChannelIndex\")\n",
        "channel_indexer = channel_indexer.fit(data)\n",
        "data = channel_indexer.transform(data)\n",
        "\n",
        "data.show()"
      ]
    },
    {
      "cell_type": "code",
      "execution_count": 20,
      "metadata": {
        "colab": {
          "base_uri": "https://localhost:8080/"
        },
        "id": "n9bcgggI2xqK",
        "outputId": "d26c2563-8566-4ac4-8e42-10aba198289d"
      },
      "outputs": [
        {
          "output_type": "stream",
          "name": "stdout",
          "text": [
            "Occupation len = 4, Channel_code len = 4\n"
          ]
        }
      ],
      "source": [
        "print(f'Occupation len = {len(occupation_indexer.labels)}, Channel_code len = {len(channel_indexer.labels)}')"
      ]
    },
    {
      "cell_type": "markdown",
      "metadata": {
        "id": "vqftb6C43Fsw"
      },
      "source": [
        "Тут по 4 категории, что самое простое, что приходит в голову? Правильно - OHE"
      ]
    },
    {
      "cell_type": "code",
      "execution_count": 21,
      "metadata": {
        "colab": {
          "base_uri": "https://localhost:8080/"
        },
        "id": "VCeoucMX3NpG",
        "outputId": "9f490f98-b585-43c5-d188-c8137694d2e7"
      },
      "outputs": [
        {
          "output_type": "stream",
          "name": "stdout",
          "text": [
            "+--------+------+---+-----------+-------------+------------+-------+--------------+-------------------+---------+-------+-----------+--------------+---------------+------------+----------------+-------------+\n",
            "|      ID|Gender|Age|Region_Code|   Occupation|Channel_Code|Vintage|Credit_Product|Avg_Account_Balance|Is_Active|Is_Lead|GenderIndex|originalGender|OccupationIndex|ChannelIndex|OccupationVector|   ChannelVec|\n",
            "+--------+------+---+-----------+-------------+------------+-------+--------------+-------------------+---------+-------+-----------+--------------+---------------+------------+----------------+-------------+\n",
            "|NNVBBKZB|Female| 73|      RG268|        Other|          X3|     43|            No|            1045696|       No|      0|        1.0|        Female|            2.0|         1.0|   (3,[2],[1.0])|(3,[1],[1.0])|\n",
            "|IDD62UNG|Female| 30|      RG277|     Salaried|          X1|     32|            No|             581988|       No|      0|        1.0|        Female|            1.0|         0.0|   (3,[1],[1.0])|(3,[0],[1.0])|\n",
            "|HD3DSEMC|Female| 56|      RG268|Self_Employed|          X3|     26|            No|            1484315|      Yes|      0|        1.0|        Female|            0.0|         1.0|   (3,[0],[1.0])|(3,[1],[1.0])|\n",
            "|BF3NC7KV|  Male| 34|      RG270|     Salaried|          X1|     19|            No|             470454|       No|      0|        0.0|          Male|            1.0|         0.0|   (3,[1],[1.0])|(3,[0],[1.0])|\n",
            "|TEASRWXV|Female| 30|      RG282|     Salaried|          X1|     33|            No|             886787|       No|      0|        1.0|        Female|            1.0|         0.0|   (3,[1],[1.0])|(3,[0],[1.0])|\n",
            "|ACUTYTWS|  Male| 56|      RG261|Self_Employed|          X1|     32|            No|             544163|      Yes|      0|        0.0|          Male|            0.0|         0.0|   (3,[0],[1.0])|(3,[0],[1.0])|\n",
            "|ETQCZFEJ|  Male| 62|      RG282|        Other|          X3|     20|            No|            1056750|      Yes|      1|        0.0|          Male|            2.0|         1.0|   (3,[2],[1.0])|(3,[1],[1.0])|\n",
            "|JJNJUQMQ|Female| 48|      RG265|Self_Employed|          X3|     13|            No|             444724|      Yes|      0|        1.0|        Female|            0.0|         1.0|   (3,[0],[1.0])|(3,[1],[1.0])|\n",
            "|ZMQFYKCB|Female| 40|      RG283|Self_Employed|          X2|     38|            No|            1274284|       No|      0|        1.0|        Female|            0.0|         2.0|   (3,[0],[1.0])|(3,[2],[1.0])|\n",
            "|NVKTFBA2|Female| 55|      RG268|Self_Employed|          X2|     49|           Yes|            2014239|       No|      0|        1.0|        Female|            0.0|         2.0|   (3,[0],[1.0])|(3,[2],[1.0])|\n",
            "|NVC424KZ|  Male| 53|      RG254|Self_Employed|          X3|    123|            No|             980664|      Yes|      0|        0.0|          Male|            0.0|         1.0|   (3,[0],[1.0])|(3,[1],[1.0])|\n",
            "|GZ5TMYIR|  Male| 27|      RG270|Self_Employed|          X1|     14|           Yes|             502787|       No|      0|        0.0|          Male|            0.0|         0.0|   (3,[0],[1.0])|(3,[0],[1.0])|\n",
            "|FCPEEIY3|Female| 27|      RG277|     Salaried|          X1|     20|            No|             811591|      Yes|      0|        1.0|        Female|            1.0|         0.0|   (3,[1],[1.0])|(3,[0],[1.0])|\n",
            "|KCE7JSFN|  Male| 31|      RG254|     Salaried|          X1|     31|           Yes|             938754|       No|      0|        0.0|          Male|            1.0|         0.0|   (3,[1],[1.0])|(3,[0],[1.0])|\n",
            "|EMEEHHBK|  Male| 79|      RG277|        Other|          X3|     57|            No|             832185|      Yes|      0|        0.0|          Male|            2.0|         1.0|   (3,[2],[1.0])|(3,[1],[1.0])|\n",
            "|UJ2NJKKL|  Male| 33|      RG268|Self_Employed|          X2|     69|            No|             517063|      Yes|      1|        0.0|          Male|            0.0|         2.0|   (3,[0],[1.0])|(3,[2],[1.0])|\n",
            "|CNGSPYWS|Female| 46|      RG268|        Other|          X3|     97|           Yes|            2282502|       No|      1|        1.0|        Female|            2.0|         1.0|   (3,[2],[1.0])|(3,[1],[1.0])|\n",
            "|VH7NBNNQ|Female| 59|      RG283|        Other|          X3|     15|           Yes|            2384692|       No|      1|        1.0|        Female|            2.0|         1.0|   (3,[2],[1.0])|(3,[1],[1.0])|\n",
            "|HDNJXDWC|Female| 65|      RG277|        Other|          X2|     20|            No|             341573|      Yes|      0|        1.0|        Female|            2.0|         2.0|   (3,[2],[1.0])|(3,[2],[1.0])|\n",
            "|BDOKI4CP|Female| 37|      RG269|        Other|          X1|     63|            No|             633484|      Yes|      0|        1.0|        Female|            2.0|         0.0|   (3,[2],[1.0])|(3,[0],[1.0])|\n",
            "+--------+------+---+-----------+-------------+------------+-------+--------------+-------------------+---------+-------+-----------+--------------+---------------+------------+----------------+-------------+\n",
            "only showing top 20 rows\n",
            "\n"
          ]
        }
      ],
      "source": [
        "ohe_encoder = OneHotEncoder(inputCols=[\"OccupationIndex\", \"ChannelIndex\"],\n",
        "                        outputCols=[\"OccupationVector\", \"ChannelVec\"])\n",
        "ohe_encoder = ohe_encoder.fit(data)\n",
        "data = ohe_encoder.transform(data)\n",
        "\n",
        "data.show()"
      ]
    },
    {
      "cell_type": "code",
      "execution_count": 22,
      "metadata": {
        "colab": {
          "base_uri": "https://localhost:8080/"
        },
        "id": "v994SMld4PeY",
        "outputId": "01e0f3f9-b6b7-4de4-9df1-9bf3bb76fb32"
      },
      "outputs": [
        {
          "output_type": "execute_result",
          "data": {
            "text/plain": [
              "[4, 4]"
            ]
          },
          "metadata": {},
          "execution_count": 22
        }
      ],
      "source": [
        "ohe_encoder.categorySizes"
      ]
    },
    {
      "cell_type": "markdown",
      "metadata": {
        "id": "XZgkq6G05PSh"
      },
      "source": [
        "Странный формат, не правда ли? Все из-за того, что тут у нас SparseVector\n",
        "\n",
        " На 4 категории нужен вектор размерности 3, а дальше храним позицию и 1 там, где нужная категория"
      ]
    },
    {
      "cell_type": "code",
      "execution_count": 23,
      "metadata": {
        "colab": {
          "base_uri": "https://localhost:8080/"
        },
        "id": "U0WwEjcR40px",
        "outputId": "d3b641d8-1a64-4061-930e-c7b24ed2c11b"
      },
      "outputs": [
        {
          "output_type": "execute_result",
          "data": {
            "text/plain": [
              "Row(OccupationVector=SparseVector(3, {2: 1.0}))"
            ]
          },
          "metadata": {},
          "execution_count": 23
        }
      ],
      "source": [
        "data.select(col('OccupationVector')).head()"
      ]
    },
    {
      "cell_type": "markdown",
      "metadata": {
        "id": "Q5A4TwCYyl9G"
      },
      "source": [
        "Теперь все надо собрать в одну структуру, чтобы можно было анализировать данные и строить модели"
      ]
    },
    {
      "cell_type": "code",
      "execution_count": 24,
      "metadata": {
        "id": "FvGBOfFovMQs"
      },
      "outputs": [],
      "source": [
        "from pyspark.ml.feature import VectorAssembler"
      ]
    },
    {
      "cell_type": "code",
      "execution_count": 25,
      "metadata": {
        "colab": {
          "base_uri": "https://localhost:8080/"
        },
        "id": "U2QozLTxxe6k",
        "outputId": "1b2da5f0-ac52-4777-cb53-cfb878724883"
      },
      "outputs": [
        {
          "output_type": "stream",
          "name": "stdout",
          "text": [
            "+--------+------+---+-----------+-------------+------------+-------+--------------+-------------------+---------+-------+-----------+--------------+---------------+------------+----------------+-------------+\n",
            "|      ID|Gender|Age|Region_Code|   Occupation|Channel_Code|Vintage|Credit_Product|Avg_Account_Balance|Is_Active|Is_Lead|GenderIndex|originalGender|OccupationIndex|ChannelIndex|OccupationVector|   ChannelVec|\n",
            "+--------+------+---+-----------+-------------+------------+-------+--------------+-------------------+---------+-------+-----------+--------------+---------------+------------+----------------+-------------+\n",
            "|NNVBBKZB|Female| 73|      RG268|        Other|          X3|     43|            No|            1045696|       No|      0|        1.0|        Female|            2.0|         1.0|   (3,[2],[1.0])|(3,[1],[1.0])|\n",
            "|IDD62UNG|Female| 30|      RG277|     Salaried|          X1|     32|            No|             581988|       No|      0|        1.0|        Female|            1.0|         0.0|   (3,[1],[1.0])|(3,[0],[1.0])|\n",
            "|HD3DSEMC|Female| 56|      RG268|Self_Employed|          X3|     26|            No|            1484315|      Yes|      0|        1.0|        Female|            0.0|         1.0|   (3,[0],[1.0])|(3,[1],[1.0])|\n",
            "|BF3NC7KV|  Male| 34|      RG270|     Salaried|          X1|     19|            No|             470454|       No|      0|        0.0|          Male|            1.0|         0.0|   (3,[1],[1.0])|(3,[0],[1.0])|\n",
            "|TEASRWXV|Female| 30|      RG282|     Salaried|          X1|     33|            No|             886787|       No|      0|        1.0|        Female|            1.0|         0.0|   (3,[1],[1.0])|(3,[0],[1.0])|\n",
            "+--------+------+---+-----------+-------------+------------+-------+--------------+-------------------+---------+-------+-----------+--------------+---------------+------------+----------------+-------------+\n",
            "only showing top 5 rows\n",
            "\n"
          ]
        }
      ],
      "source": [
        "data.show(5)"
      ]
    },
    {
      "cell_type": "code",
      "execution_count": 26,
      "metadata": {
        "id": "-d3u3pXZwllv"
      },
      "outputs": [],
      "source": [
        "feature_columns = [\n",
        "                   'Age',\n",
        "                   'Vintage',\n",
        "                   'Avg_Account_Balance',\n",
        "                   'GenderIndex',\n",
        "                   'OccupationVector',\n",
        "                   'ChannelVec'                 \n",
        "]"
      ]
    },
    {
      "cell_type": "code",
      "execution_count": 27,
      "metadata": {
        "id": "w8B6wK5qvPI4"
      },
      "outputs": [],
      "source": [
        "df_va = VectorAssembler(inputCols = feature_columns, outputCol = 'features')\n",
        "data = df_va.transform(data)"
      ]
    },
    {
      "cell_type": "code",
      "execution_count": 28,
      "metadata": {
        "colab": {
          "base_uri": "https://localhost:8080/"
        },
        "id": "IVIiU4qNzl7I",
        "outputId": "bc501c30-f1ef-4db6-b563-312881a18d08"
      },
      "outputs": [
        {
          "output_type": "stream",
          "name": "stdout",
          "text": [
            "root\n",
            " |-- ID: string (nullable = true)\n",
            " |-- Gender: string (nullable = true)\n",
            " |-- Age: integer (nullable = true)\n",
            " |-- Region_Code: string (nullable = true)\n",
            " |-- Occupation: string (nullable = true)\n",
            " |-- Channel_Code: string (nullable = true)\n",
            " |-- Vintage: integer (nullable = true)\n",
            " |-- Credit_Product: string (nullable = false)\n",
            " |-- Avg_Account_Balance: integer (nullable = true)\n",
            " |-- Is_Active: string (nullable = true)\n",
            " |-- Is_Lead: integer (nullable = true)\n",
            " |-- GenderIndex: double (nullable = false)\n",
            " |-- originalGender: string (nullable = true)\n",
            " |-- OccupationIndex: double (nullable = false)\n",
            " |-- ChannelIndex: double (nullable = false)\n",
            " |-- OccupationVector: vector (nullable = true)\n",
            " |-- ChannelVec: vector (nullable = true)\n",
            " |-- features: vector (nullable = true)\n",
            "\n"
          ]
        }
      ],
      "source": [
        "data.printSchema()"
      ]
    },
    {
      "cell_type": "code",
      "execution_count": 29,
      "metadata": {
        "colab": {
          "base_uri": "https://localhost:8080/"
        },
        "id": "iaXUddG1zp_X",
        "outputId": "6c6eafaf-e64c-4f35-bc39-0767f3cfa64c"
      },
      "outputs": [
        {
          "output_type": "stream",
          "name": "stdout",
          "text": [
            "+--------+------+---+-----------+-------------+------------+-------+--------------+-------------------+---------+-------+-----------+--------------+---------------+------------+----------------+-------------+--------------------+\n",
            "|      ID|Gender|Age|Region_Code|   Occupation|Channel_Code|Vintage|Credit_Product|Avg_Account_Balance|Is_Active|Is_Lead|GenderIndex|originalGender|OccupationIndex|ChannelIndex|OccupationVector|   ChannelVec|            features|\n",
            "+--------+------+---+-----------+-------------+------------+-------+--------------+-------------------+---------+-------+-----------+--------------+---------------+------------+----------------+-------------+--------------------+\n",
            "|NNVBBKZB|Female| 73|      RG268|        Other|          X3|     43|            No|            1045696|       No|      0|        1.0|        Female|            2.0|         1.0|   (3,[2],[1.0])|(3,[1],[1.0])|[73.0,43.0,104569...|\n",
            "|IDD62UNG|Female| 30|      RG277|     Salaried|          X1|     32|            No|             581988|       No|      0|        1.0|        Female|            1.0|         0.0|   (3,[1],[1.0])|(3,[0],[1.0])|[30.0,32.0,581988...|\n",
            "|HD3DSEMC|Female| 56|      RG268|Self_Employed|          X3|     26|            No|            1484315|      Yes|      0|        1.0|        Female|            0.0|         1.0|   (3,[0],[1.0])|(3,[1],[1.0])|[56.0,26.0,148431...|\n",
            "+--------+------+---+-----------+-------------+------------+-------+--------------+-------------------+---------+-------+-----------+--------------+---------------+------------+----------------+-------------+--------------------+\n",
            "only showing top 3 rows\n",
            "\n"
          ]
        }
      ],
      "source": [
        "data.show(3)"
      ]
    },
    {
      "cell_type": "markdown",
      "metadata": {
        "id": "rCWpLx31zh67"
      },
      "source": [
        "В полученном features можно автоматичеки проанализировать все переменные и если у кого-то уникальных значений меньше заданного вами порога, то они автоматичсеки переведутся в индексы при помощи pyspark.ml.feature import VectorIndexer"
      ]
    },
    {
      "cell_type": "markdown",
      "metadata": {
        "id": "sDUyHq-CwHRw"
      },
      "source": [
        "**Статистика**"
      ]
    },
    {
      "cell_type": "markdown",
      "metadata": {
        "id": "AJdSxnSRwRKv"
      },
      "source": [
        "В ml pyspark есть некоторые статистические методы, которые можно использовать для анализа\n",
        "\n",
        "Корреляция"
      ]
    },
    {
      "cell_type": "code",
      "execution_count": 30,
      "metadata": {
        "id": "bLh7XX3GpCtZ"
      },
      "outputs": [],
      "source": [
        "from pyspark.ml.stat import Correlation"
      ]
    },
    {
      "cell_type": "code",
      "execution_count": 31,
      "metadata": {
        "colab": {
          "base_uri": "https://localhost:8080/"
        },
        "id": "yopY40AAwzhq",
        "outputId": "e940d2a8-0f40-4f66-e414-887ff2102378"
      },
      "outputs": [
        {
          "output_type": "stream",
          "name": "stderr",
          "text": [
            "/usr/local/lib/python3.7/dist-packages/pyspark/sql/context.py:127: FutureWarning: Deprecated in 3.0.0. Use SparkSession.builder.getOrCreate() instead.\n",
            "  FutureWarning\n"
          ]
        }
      ],
      "source": [
        "corr = Correlation.corr(data, 'features', method='pearson').collect()[0][0]"
      ]
    },
    {
      "cell_type": "code",
      "execution_count": 32,
      "metadata": {
        "colab": {
          "base_uri": "https://localhost:8080/"
        },
        "id": "b5NJYBqi0o4J",
        "outputId": "594028cd-0771-46c8-cfac-b53cd55d3322"
      },
      "outputs": [
        {
          "output_type": "execute_result",
          "data": {
            "text/plain": [
              "DenseMatrix(10, 10, [1.0, 0.6312, 0.1452, -0.1521, 0.1527, -0.5632, 0.3948, -0.6646, ..., 0.0102, -0.116, 0.2933, -0.3238, 0.0005, -0.5272, -0.3843, 1.0], False)"
            ]
          },
          "metadata": {},
          "execution_count": 32
        }
      ],
      "source": [
        "corr"
      ]
    },
    {
      "cell_type": "code",
      "execution_count": 33,
      "metadata": {
        "colab": {
          "base_uri": "https://localhost:8080/"
        },
        "id": "kdYSH7Hg1Fwm",
        "outputId": "52be4045-2fb3-4bc5-a001-071d905097ee"
      },
      "outputs": [
        {
          "output_type": "execute_result",
          "data": {
            "text/plain": [
              "array([[ 1.00000000e+00,  6.31242411e-01,  1.45232189e-01,\n",
              "        -1.52075940e-01,  1.52651808e-01, -5.63226982e-01,\n",
              "         3.94834177e-01, -6.64600051e-01,  4.56338440e-01,\n",
              "         2.73153253e-01],\n",
              "       [ 6.31242411e-01,  1.00000000e+00,  1.67433481e-01,\n",
              "        -1.46379743e-01,  2.21023818e-01, -4.10109383e-01,\n",
              "         1.55662661e-01, -5.71828453e-01,  5.38828562e-01,\n",
              "         1.44931244e-01],\n",
              "       [ 1.45232189e-01,  1.67433481e-01,  1.00000000e+00,\n",
              "        -2.24772031e-02,  3.46714040e-03, -7.16906860e-02,\n",
              "         6.03874569e-02, -9.81785292e-02,  1.06905544e-01,\n",
              "         1.01634033e-02],\n",
              "       [-1.52075940e-01, -1.46379743e-01, -2.24772031e-02,\n",
              "         1.00000000e+00, -8.58626857e-02,  1.22439249e-01,\n",
              "        -2.58175123e-02,  1.84372479e-01, -8.07817702e-02,\n",
              "        -1.16018433e-01],\n",
              "       [ 1.52651808e-01,  2.21023818e-01,  3.46714040e-03,\n",
              "        -8.58626857e-02,  1.00000000e+00, -5.37283514e-01,\n",
              "        -5.27660791e-01, -4.34990948e-01,  1.63662837e-01,\n",
              "         2.93303563e-01],\n",
              "       [-5.63226982e-01, -4.10109383e-01, -7.16906860e-02,\n",
              "         1.22439249e-01, -5.37283514e-01,  1.00000000e+00,\n",
              "        -4.07017379e-01,  5.90747136e-01, -3.07398921e-01,\n",
              "        -3.23819864e-01],\n",
              "       [ 3.94834177e-01,  1.55662661e-01,  6.03874569e-02,\n",
              "        -2.58175123e-02, -5.27660791e-01, -4.07017379e-01,\n",
              "         1.00000000e+00, -1.04278488e-01,  1.19212770e-01,\n",
              "         4.66283346e-04],\n",
              "       [-6.64600051e-01, -5.71828453e-01, -9.81785292e-02,\n",
              "         1.84372479e-01, -4.34990948e-01,  5.90747136e-01,\n",
              "        -1.04278488e-01,  1.00000000e+00, -5.32458671e-01,\n",
              "        -5.27158389e-01],\n",
              "       [ 4.56338440e-01,  5.38828562e-01,  1.06905544e-01,\n",
              "        -8.07817702e-02,  1.63662837e-01, -3.07398921e-01,\n",
              "         1.19212770e-01, -5.32458671e-01,  1.00000000e+00,\n",
              "        -3.84310850e-01],\n",
              "       [ 2.73153253e-01,  1.44931244e-01,  1.01634033e-02,\n",
              "        -1.16018433e-01,  2.93303563e-01, -3.23819864e-01,\n",
              "         4.66283346e-04, -5.27158389e-01, -3.84310850e-01,\n",
              "         1.00000000e+00]])"
            ]
          },
          "metadata": {},
          "execution_count": 33
        }
      ],
      "source": [
        "corr.toArray()"
      ]
    },
    {
      "cell_type": "markdown",
      "metadata": {
        "id": "UaW05KoO1QZ9"
      },
      "source": [
        "Можно вычислить корреляцию спирмена"
      ]
    },
    {
      "cell_type": "code",
      "execution_count": 34,
      "metadata": {
        "colab": {
          "base_uri": "https://localhost:8080/"
        },
        "id": "BYUenSBo1P1D",
        "outputId": "dd7023b0-3be3-444c-ac79-8905f4be3ff2"
      },
      "outputs": [
        {
          "output_type": "stream",
          "name": "stderr",
          "text": [
            "/usr/local/lib/python3.7/dist-packages/pyspark/sql/context.py:127: FutureWarning: Deprecated in 3.0.0. Use SparkSession.builder.getOrCreate() instead.\n",
            "  FutureWarning\n"
          ]
        },
        {
          "output_type": "execute_result",
          "data": {
            "text/plain": [
              "array([[ 1.00000000e+00,  6.52477119e-01,  1.78395617e-01,\n",
              "        -1.66276503e-01,  2.50479037e-01, -5.94192974e-01,\n",
              "         3.16280765e-01, -7.14324073e-01,  4.68523607e-01,\n",
              "         3.11874367e-01],\n",
              "       [ 6.52477119e-01,  1.00000000e+00,  1.98039737e-01,\n",
              "        -1.37241231e-01,  2.26617372e-01, -4.03612329e-01,\n",
              "         1.44248315e-01, -5.43361590e-01,  4.88850315e-01,\n",
              "         1.86509197e-01],\n",
              "       [ 1.78395617e-01,  1.98039737e-01,  1.00000000e+00,\n",
              "        -3.35726184e-02,  1.74003362e-02, -9.65169583e-02,\n",
              "         6.80005979e-02, -1.34528255e-01,  1.34941462e-01,\n",
              "         2.41122172e-02],\n",
              "       [-1.66276503e-01, -1.37241231e-01, -3.35726184e-02,\n",
              "         1.00000000e+00, -8.58626857e-02,  1.22439249e-01,\n",
              "        -2.58175123e-02,  1.84372479e-01, -8.07817702e-02,\n",
              "        -1.16018433e-01],\n",
              "       [ 2.50479037e-01,  2.26617372e-01,  1.74003362e-02,\n",
              "        -8.58626857e-02,  1.00000000e+00, -5.37283514e-01,\n",
              "        -5.27660791e-01, -4.34990948e-01,  1.63662837e-01,\n",
              "         2.93303563e-01],\n",
              "       [-5.94192974e-01, -4.03612329e-01, -9.65169583e-02,\n",
              "         1.22439249e-01, -5.37283514e-01,  1.00000000e+00,\n",
              "        -4.07017379e-01,  5.90747136e-01, -3.07398921e-01,\n",
              "        -3.23819864e-01],\n",
              "       [ 3.16280765e-01,  1.44248315e-01,  6.80005979e-02,\n",
              "        -2.58175123e-02, -5.27660791e-01, -4.07017379e-01,\n",
              "         1.00000000e+00, -1.04278488e-01,  1.19212770e-01,\n",
              "         4.66283346e-04],\n",
              "       [-7.14324073e-01, -5.43361590e-01, -1.34528255e-01,\n",
              "         1.84372479e-01, -4.34990948e-01,  5.90747136e-01,\n",
              "        -1.04278488e-01,  1.00000000e+00, -5.32458671e-01,\n",
              "        -5.27158389e-01],\n",
              "       [ 4.68523607e-01,  4.88850315e-01,  1.34941462e-01,\n",
              "        -8.07817702e-02,  1.63662837e-01, -3.07398921e-01,\n",
              "         1.19212770e-01, -5.32458671e-01,  1.00000000e+00,\n",
              "        -3.84310850e-01],\n",
              "       [ 3.11874367e-01,  1.86509197e-01,  2.41122172e-02,\n",
              "        -1.16018433e-01,  2.93303563e-01, -3.23819864e-01,\n",
              "         4.66283346e-04, -5.27158389e-01, -3.84310850e-01,\n",
              "         1.00000000e+00]])"
            ]
          },
          "metadata": {},
          "execution_count": 34
        }
      ],
      "source": [
        "corr = Correlation.corr(data, 'features', method='spearman').collect()[0][0]\n",
        "corr.toArray()"
      ]
    },
    {
      "cell_type": "markdown",
      "metadata": {
        "id": "y_5PVUlY2F5Y"
      },
      "source": [
        "Можно использовать хи-квадрат тест для оценки независимости каждой переменной в features относительно целевого признака, но этот тест для категориальных переменных, поэтому для примера на одной фиче"
      ]
    },
    {
      "cell_type": "code",
      "execution_count": 35,
      "metadata": {
        "id": "qKDaZAqo2qcx"
      },
      "outputs": [],
      "source": [
        "from pyspark.ml.stat import ChiSquareTest, KolmogorovSmirnovTest, Summarizer"
      ]
    },
    {
      "cell_type": "code",
      "execution_count": 36,
      "metadata": {
        "colab": {
          "base_uri": "https://localhost:8080/"
        },
        "id": "NKv6rl6L2uD3",
        "outputId": "312b82f1-d1ca-4dcc-b066-ca57695ab30a"
      },
      "outputs": [
        {
          "output_type": "stream",
          "name": "stderr",
          "text": [
            "/usr/local/lib/python3.7/dist-packages/pyspark/sql/context.py:127: FutureWarning: Deprecated in 3.0.0. Use SparkSession.builder.getOrCreate() instead.\n",
            "  FutureWarning\n"
          ]
        }
      ],
      "source": [
        "r = ChiSquareTest.test(data, \"OccupationVector\", \"Is_Lead\")"
      ]
    },
    {
      "cell_type": "code",
      "execution_count": 37,
      "metadata": {
        "colab": {
          "base_uri": "https://localhost:8080/"
        },
        "id": "zs8p9cYz232n",
        "outputId": "fae1f2d5-0ee0-4df1-80b9-6bdca8112686"
      },
      "outputs": [
        {
          "output_type": "stream",
          "name": "stdout",
          "text": [
            "+--------------------+----------------+--------------------+\n",
            "|             pValues|degreesOfFreedom|          statistics|\n",
            "+--------------------+----------------+--------------------+\n",
            "|[0.0,0.0,1.161583...|       [1, 1, 1]|[1420.86324574575...|\n",
            "+--------------------+----------------+--------------------+\n",
            "\n"
          ]
        }
      ],
      "source": [
        "r.show()"
      ]
    },
    {
      "cell_type": "markdown",
      "metadata": {
        "id": "L5bWlEXS48xD"
      },
      "source": [
        "KS-тест"
      ]
    },
    {
      "cell_type": "code",
      "execution_count": 38,
      "metadata": {
        "colab": {
          "base_uri": "https://localhost:8080/"
        },
        "id": "AQxAgsUx6NVR",
        "outputId": "519ee54f-fd0c-4a10-e560-f75a45b89690"
      },
      "outputs": [
        {
          "output_type": "execute_result",
          "data": {
            "text/plain": [
              "[Row(mean_Age=43.85630684708516, std_Age=14.828671804648007)]"
            ]
          },
          "metadata": {},
          "execution_count": 38
        }
      ],
      "source": [
        "data.select(\n",
        "    F.mean(col('Age')).alias('mean_Age'),\n",
        "    F.stddev(col('Age')).alias('std_Age')\n",
        ").collect()"
      ]
    },
    {
      "cell_type": "code",
      "execution_count": 39,
      "metadata": {
        "colab": {
          "base_uri": "https://localhost:8080/"
        },
        "id": "IoppdTHa46tZ",
        "outputId": "53da44be-6611-4aef-f56d-21904471c8f3"
      },
      "outputs": [
        {
          "output_type": "stream",
          "name": "stderr",
          "text": [
            "/usr/local/lib/python3.7/dist-packages/pyspark/sql/context.py:127: FutureWarning: Deprecated in 3.0.0. Use SparkSession.builder.getOrCreate() instead.\n",
            "  FutureWarning\n"
          ]
        }
      ],
      "source": [
        "ks = KolmogorovSmirnovTest.test(data, 'Age', 'norm', 44, 15).first()"
      ]
    },
    {
      "cell_type": "code",
      "execution_count": 40,
      "metadata": {
        "colab": {
          "base_uri": "https://localhost:8080/"
        },
        "id": "y_f8r3Lg7KW5",
        "outputId": "ea88d699-566b-43ef-d979-5368dab71de5"
      },
      "outputs": [
        {
          "output_type": "execute_result",
          "data": {
            "text/plain": [
              "Row(pValue=2.045950076023928e-10, statistic=0.12561207843265515)"
            ]
          },
          "metadata": {},
          "execution_count": 40
        }
      ],
      "source": [
        "ks"
      ]
    },
    {
      "cell_type": "markdown",
      "metadata": {
        "id": "8brAdeEf7oxC"
      },
      "source": [
        "Еще можно посчитать разные статистики"
      ]
    },
    {
      "cell_type": "code",
      "execution_count": 41,
      "metadata": {
        "colab": {
          "base_uri": "https://localhost:8080/"
        },
        "id": "yYYVSXeO7s5s",
        "outputId": "86e7b721-b3fa-4331-9e18-62ed6e2e00fe"
      },
      "outputs": [
        {
          "output_type": "stream",
          "name": "stdout",
          "text": [
            "+--------------------------------------------------------------------------------------------------------------------------------------------------------------------------------------------------------+\n",
            "|aggregate_metrics(features, 1.0)                                                                                                                                                                        |\n",
            "+--------------------------------------------------------------------------------------------------------------------------------------------------------------------------------------------------------+\n",
            "|{[43.8563068470854,46.95914131651267,1128403.101019436,0.4538732322718486,0.4105646556109472,0.29300640960423235,0.2855753382846678,0.42208973445925324,0.2796296673110184,0.27561705158205313], 245725}|\n",
            "+--------------------------------------------------------------------------------------------------------------------------------------------------------------------------------------------------------+\n",
            "\n"
          ]
        }
      ],
      "source": [
        "summarizer = Summarizer.metrics(\"mean\", \"count\")\n",
        "data.select(summarizer.summary(data.features)).show(truncate=False)"
      ]
    },
    {
      "cell_type": "markdown",
      "metadata": {
        "id": "YKcAS-ZySbmv"
      },
      "source": [
        "**Работа с фичами**"
      ]
    },
    {
      "cell_type": "markdown",
      "metadata": {
        "id": "gb2La8IGSfy2"
      },
      "source": [
        "Квантизация"
      ]
    },
    {
      "cell_type": "code",
      "execution_count": 42,
      "metadata": {
        "id": "UU52as0DSfM3"
      },
      "outputs": [],
      "source": [
        "from pyspark.ml.feature import QuantileDiscretizer"
      ]
    },
    {
      "cell_type": "markdown",
      "metadata": {
        "id": "JwLM1tzZTCpM"
      },
      "source": [
        "Обучаем"
      ]
    },
    {
      "cell_type": "code",
      "execution_count": 43,
      "metadata": {
        "id": "eLEqod7ASm_p"
      },
      "outputs": [],
      "source": [
        "discretizer = QuantileDiscretizer(numBuckets=5, inputCol=\"Age\", outputCol=\"Age_quant\")\n",
        "discretizer = discretizer.fit(data)"
      ]
    },
    {
      "cell_type": "code",
      "execution_count": 44,
      "metadata": {
        "id": "DJEUHC2CTE1Z"
      },
      "outputs": [],
      "source": [
        "data = discretizer.transform(data)"
      ]
    },
    {
      "cell_type": "code",
      "execution_count": 45,
      "metadata": {
        "colab": {
          "base_uri": "https://localhost:8080/"
        },
        "id": "BzA9F_8wUZzD",
        "outputId": "13a19302-259f-415d-bf34-96cd89316eb3"
      },
      "outputs": [
        {
          "output_type": "stream",
          "name": "stdout",
          "text": [
            "+---------+-------+-------+-----+\n",
            "|Age_quant|min_age|max_age|count|\n",
            "+---------+-------+-------+-----+\n",
            "|      0.0|     23|     28|43790|\n",
            "|      1.0|     29|     35|52017|\n",
            "|      2.0|     36|     46|46007|\n",
            "|      3.0|     47|     55|50808|\n",
            "|      4.0|     56|     85|53103|\n",
            "+---------+-------+-------+-----+\n",
            "\n"
          ]
        }
      ],
      "source": [
        "data.select('Age', 'Age_quant')\\\n",
        "    .groupby('Age_quant').agg(\n",
        "        F.min('Age').alias('min_age'),\n",
        "        F.max('Age').alias('max_age'),\n",
        "        F.count('Age').alias('count')\n",
        "    )\\\n",
        "    .orderBy('Age_quant')\\\n",
        "    .show(5)"
      ]
    },
    {
      "cell_type": "markdown",
      "metadata": {
        "id": "4MCJmjnVWnYo"
      },
      "source": [
        "Заполнить пропуски можно через Imputer\n",
        "\n",
        "Заполнять пропуски умеет только для числовых переменных, поэтому попробуем на игрушечном примере\n",
        "\n"
      ]
    },
    {
      "cell_type": "code",
      "execution_count": 46,
      "metadata": {
        "id": "tQLJUwVnXHGg"
      },
      "outputs": [],
      "source": [
        "from pyspark.ml.feature import Imputer"
      ]
    },
    {
      "cell_type": "code",
      "execution_count": 47,
      "metadata": {
        "colab": {
          "base_uri": "https://localhost:8080/"
        },
        "id": "tnLtSJgXWrnK",
        "outputId": "3f3f7c1e-8d08-4596-8e07-02aaf5e12739"
      },
      "outputs": [
        {
          "output_type": "stream",
          "name": "stdout",
          "text": [
            "+---+---+-----+-----+\n",
            "|  a|  b|out_a|out_b|\n",
            "+---+---+-----+-----+\n",
            "|1.0|NaN|  1.0|  4.0|\n",
            "|2.0|NaN|  2.0|  4.0|\n",
            "|NaN|3.0|  3.0|  3.0|\n",
            "|4.0|4.0|  4.0|  4.0|\n",
            "|5.0|5.0|  5.0|  5.0|\n",
            "+---+---+-----+-----+\n",
            "\n"
          ]
        }
      ],
      "source": [
        "df = spark.createDataFrame([\n",
        "    (1.0, float(\"nan\")),\n",
        "    (2.0, float(\"nan\")),\n",
        "    (float(\"nan\"), 3.0),\n",
        "    (4.0, 4.0),\n",
        "    (5.0, 5.0)\n",
        "], [\"a\", \"b\"])\n",
        "\n",
        "#стратегия может быть 'mean', 'median', 'mode'\n",
        "#через setMissingValue(0.0) можно сказать, что пропуски - это 0\n",
        "imputer = Imputer(inputCols=[\"a\", \"b\"], outputCols=[\"out_a\", \"out_b\"], strategy='mean')\n",
        "imputer = imputer.fit(df)\n",
        "imputer.transform(df).show()"
      ]
    },
    {
      "cell_type": "markdown",
      "metadata": {
        "id": "ZhnOCVaJN4TE"
      },
      "source": [
        "**Pipeline**\n",
        "\n",
        "Как и в scikit-learn можно создавать пайплайны обработки данных"
      ]
    },
    {
      "cell_type": "markdown",
      "metadata": {
        "id": "iA70rsPgYIPb"
      },
      "source": [
        "Мы много делали преобразований, давайте соберем все в 1 пайплайн"
      ]
    },
    {
      "cell_type": "code",
      "execution_count": 48,
      "metadata": {
        "id": "EQSjY7OGNuV5"
      },
      "outputs": [],
      "source": [
        "from pyspark.ml import Pipeline"
      ]
    },
    {
      "cell_type": "code",
      "execution_count": 49,
      "metadata": {
        "id": "2F3RrpODOSdK"
      },
      "outputs": [],
      "source": [
        "#string в индесы\n",
        "gender_indexer = StringIndexer(inputCol=\"Gender\", outputCol=\"GenderIndex\")\n",
        "occupation_indexer = StringIndexer(inputCol=\"Occupation\", outputCol=\"OccupationIndex\")\n",
        "channel_indexer = StringIndexer(inputCol=\"Channel_Code\", outputCol=\"ChannelIndex\")\n",
        "\n",
        "#OHE\n",
        "ohe_encoder = OneHotEncoder(inputCols=[\"OccupationIndex\", \"ChannelIndex\"],\n",
        "                        outputCols=[\"OccupationVector\", \"ChannelVec\"])\n",
        "\n",
        "#квантизация\n",
        "discretizer = QuantileDiscretizer(numBuckets=5, inputCol=\"Age\", outputCol=\"Age_quant\")\n",
        "\n",
        "#собираем все в вектор\n",
        "feature_columns = [\n",
        "                   'Age',\n",
        "                   'Vintage',\n",
        "                   'Avg_Account_Balance',\n",
        "                   'GenderIndex',\n",
        "                   'OccupationVector',\n",
        "                   'ChannelVec',\n",
        "                   'Age_quant'                 \n",
        "]\n",
        "vector_assembler = VectorAssembler(inputCols = feature_columns, outputCol = 'features')"
      ]
    },
    {
      "cell_type": "markdown",
      "metadata": {
        "id": "XFC0GDkKPOaf"
      },
      "source": [
        "собираем все в пайплайн"
      ]
    },
    {
      "cell_type": "code",
      "execution_count": 50,
      "metadata": {
        "id": "01A49vw-PBUX"
      },
      "outputs": [],
      "source": [
        "pipeline = Pipeline(stages=[\n",
        "                           gender_indexer,\n",
        "                           occupation_indexer,\n",
        "                           channel_indexer,\n",
        "                           ohe_encoder,\n",
        "                           discretizer,\n",
        "                           vector_assembler,\n",
        "])"
      ]
    },
    {
      "cell_type": "markdown",
      "metadata": {
        "id": "QsvoIzWBPoL8"
      },
      "source": [
        "Давайте заново загрузим данные и сделаем трансформацию\n",
        "\n",
        "---\n",
        "\n"
      ]
    },
    {
      "cell_type": "code",
      "execution_count": 51,
      "metadata": {
        "id": "5w32Zu8CPnjW"
      },
      "outputs": [],
      "source": [
        "data = spark.read.csv('credit_card_data.csv', header=True, inferSchema=True)\n",
        "data = data.fillna({'Credit_Product': 'No'})\n",
        "pipeline = pipeline.fit(data)"
      ]
    },
    {
      "cell_type": "code",
      "execution_count": 52,
      "metadata": {
        "id": "sZL7qvxlQMQF"
      },
      "outputs": [],
      "source": [
        "transformed_data = pipeline.transform(data)"
      ]
    },
    {
      "cell_type": "code",
      "execution_count": 53,
      "metadata": {
        "colab": {
          "base_uri": "https://localhost:8080/"
        },
        "id": "Q2FxS5ahYcew",
        "outputId": "27abac69-e022-41d6-aa03-3c2537cd7d30"
      },
      "outputs": [
        {
          "output_type": "stream",
          "name": "stdout",
          "text": [
            "+--------+------+---+-----------+-------------+------------+-------+--------------+-------------------+---------+-------+-----------+---------------+------------+----------------+-------------+---------+--------------------+\n",
            "|      ID|Gender|Age|Region_Code|   Occupation|Channel_Code|Vintage|Credit_Product|Avg_Account_Balance|Is_Active|Is_Lead|GenderIndex|OccupationIndex|ChannelIndex|OccupationVector|   ChannelVec|Age_quant|            features|\n",
            "+--------+------+---+-----------+-------------+------------+-------+--------------+-------------------+---------+-------+-----------+---------------+------------+----------------+-------------+---------+--------------------+\n",
            "|NNVBBKZB|Female| 73|      RG268|        Other|          X3|     43|            No|            1045696|       No|      0|        1.0|            2.0|         1.0|   (3,[2],[1.0])|(3,[1],[1.0])|      4.0|[73.0,43.0,104569...|\n",
            "|IDD62UNG|Female| 30|      RG277|     Salaried|          X1|     32|            No|             581988|       No|      0|        1.0|            1.0|         0.0|   (3,[1],[1.0])|(3,[0],[1.0])|      1.0|[30.0,32.0,581988...|\n",
            "|HD3DSEMC|Female| 56|      RG268|Self_Employed|          X3|     26|            No|            1484315|      Yes|      0|        1.0|            0.0|         1.0|   (3,[0],[1.0])|(3,[1],[1.0])|      4.0|[56.0,26.0,148431...|\n",
            "|BF3NC7KV|  Male| 34|      RG270|     Salaried|          X1|     19|            No|             470454|       No|      0|        0.0|            1.0|         0.0|   (3,[1],[1.0])|(3,[0],[1.0])|      1.0|(11,[0,1,2,5,7,10...|\n",
            "|TEASRWXV|Female| 30|      RG282|     Salaried|          X1|     33|            No|             886787|       No|      0|        1.0|            1.0|         0.0|   (3,[1],[1.0])|(3,[0],[1.0])|      1.0|[30.0,33.0,886787...|\n",
            "|ACUTYTWS|  Male| 56|      RG261|Self_Employed|          X1|     32|            No|             544163|      Yes|      0|        0.0|            0.0|         0.0|   (3,[0],[1.0])|(3,[0],[1.0])|      4.0|(11,[0,1,2,4,7,10...|\n",
            "|ETQCZFEJ|  Male| 62|      RG282|        Other|          X3|     20|            No|            1056750|      Yes|      1|        0.0|            2.0|         1.0|   (3,[2],[1.0])|(3,[1],[1.0])|      4.0|(11,[0,1,2,6,8,10...|\n",
            "|JJNJUQMQ|Female| 48|      RG265|Self_Employed|          X3|     13|            No|             444724|      Yes|      0|        1.0|            0.0|         1.0|   (3,[0],[1.0])|(3,[1],[1.0])|      3.0|[48.0,13.0,444724...|\n",
            "|ZMQFYKCB|Female| 40|      RG283|Self_Employed|          X2|     38|            No|            1274284|       No|      0|        1.0|            0.0|         2.0|   (3,[0],[1.0])|(3,[2],[1.0])|      2.0|[40.0,38.0,127428...|\n",
            "|NVKTFBA2|Female| 55|      RG268|Self_Employed|          X2|     49|           Yes|            2014239|       No|      0|        1.0|            0.0|         2.0|   (3,[0],[1.0])|(3,[2],[1.0])|      3.0|[55.0,49.0,201423...|\n",
            "|NVC424KZ|  Male| 53|      RG254|Self_Employed|          X3|    123|            No|             980664|      Yes|      0|        0.0|            0.0|         1.0|   (3,[0],[1.0])|(3,[1],[1.0])|      3.0|(11,[0,1,2,4,8,10...|\n",
            "|GZ5TMYIR|  Male| 27|      RG270|Self_Employed|          X1|     14|           Yes|             502787|       No|      0|        0.0|            0.0|         0.0|   (3,[0],[1.0])|(3,[0],[1.0])|      0.0|(11,[0,1,2,4,7],[...|\n",
            "|FCPEEIY3|Female| 27|      RG277|     Salaried|          X1|     20|            No|             811591|      Yes|      0|        1.0|            1.0|         0.0|   (3,[1],[1.0])|(3,[0],[1.0])|      0.0|(11,[0,1,2,3,5,7]...|\n",
            "|KCE7JSFN|  Male| 31|      RG254|     Salaried|          X1|     31|           Yes|             938754|       No|      0|        0.0|            1.0|         0.0|   (3,[1],[1.0])|(3,[0],[1.0])|      1.0|(11,[0,1,2,5,7,10...|\n",
            "|EMEEHHBK|  Male| 79|      RG277|        Other|          X3|     57|            No|             832185|      Yes|      0|        0.0|            2.0|         1.0|   (3,[2],[1.0])|(3,[1],[1.0])|      4.0|(11,[0,1,2,6,8,10...|\n",
            "|UJ2NJKKL|  Male| 33|      RG268|Self_Employed|          X2|     69|            No|             517063|      Yes|      1|        0.0|            0.0|         2.0|   (3,[0],[1.0])|(3,[2],[1.0])|      1.0|(11,[0,1,2,4,9,10...|\n",
            "|CNGSPYWS|Female| 46|      RG268|        Other|          X3|     97|           Yes|            2282502|       No|      1|        1.0|            2.0|         1.0|   (3,[2],[1.0])|(3,[1],[1.0])|      2.0|[46.0,97.0,228250...|\n",
            "|VH7NBNNQ|Female| 59|      RG283|        Other|          X3|     15|           Yes|            2384692|       No|      1|        1.0|            2.0|         1.0|   (3,[2],[1.0])|(3,[1],[1.0])|      4.0|[59.0,15.0,238469...|\n",
            "|HDNJXDWC|Female| 65|      RG277|        Other|          X2|     20|            No|             341573|      Yes|      0|        1.0|            2.0|         2.0|   (3,[2],[1.0])|(3,[2],[1.0])|      4.0|[65.0,20.0,341573...|\n",
            "|BDOKI4CP|Female| 37|      RG269|        Other|          X1|     63|            No|             633484|      Yes|      0|        1.0|            2.0|         0.0|   (3,[2],[1.0])|(3,[0],[1.0])|      2.0|[37.0,63.0,633484...|\n",
            "+--------+------+---+-----------+-------------+------------+-------+--------------+-------------------+---------+-------+-----------+---------------+------------+----------------+-------------+---------+--------------------+\n",
            "only showing top 20 rows\n",
            "\n"
          ]
        }
      ],
      "source": [
        "transformed_data.show()"
      ]
    },
    {
      "cell_type": "code",
      "execution_count": 54,
      "metadata": {
        "colab": {
          "base_uri": "https://localhost:8080/"
        },
        "id": "wAxYmxspQRtg",
        "outputId": "2b7aa5aa-0f3b-4745-fcc8-794c76d9fcc4"
      },
      "outputs": [
        {
          "output_type": "stream",
          "name": "stdout",
          "text": [
            "+-------+--------------------+\n",
            "|Is_Lead|            features|\n",
            "+-------+--------------------+\n",
            "|      0|[73.0,43.0,104569...|\n",
            "|      0|[30.0,32.0,581988...|\n",
            "|      0|[56.0,26.0,148431...|\n",
            "|      0|(11,[0,1,2,5,7,10...|\n",
            "|      0|[30.0,33.0,886787...|\n",
            "+-------+--------------------+\n",
            "only showing top 5 rows\n",
            "\n"
          ]
        }
      ],
      "source": [
        "transformed_data.select('Is_Lead', 'features').show(5)"
      ]
    },
    {
      "cell_type": "code",
      "source": [
        "transformed_data.show(5)\n"
      ],
      "metadata": {
        "colab": {
          "base_uri": "https://localhost:8080/"
        },
        "id": "WKvkmaxcdG7z",
        "outputId": "e276c01d-3b54-49b5-825c-1968c2d39af1"
      },
      "execution_count": 64,
      "outputs": [
        {
          "output_type": "stream",
          "name": "stdout",
          "text": [
            "+--------+------+---+-----------+-------------+------------+-------+--------------+-------------------+---------+-------+-----------+---------------+------------+----------------+-------------+---------+--------------------+\n",
            "|      ID|Gender|Age|Region_Code|   Occupation|Channel_Code|Vintage|Credit_Product|Avg_Account_Balance|Is_Active|Is_Lead|GenderIndex|OccupationIndex|ChannelIndex|OccupationVector|   ChannelVec|Age_quant|            features|\n",
            "+--------+------+---+-----------+-------------+------------+-------+--------------+-------------------+---------+-------+-----------+---------------+------------+----------------+-------------+---------+--------------------+\n",
            "|NNVBBKZB|Female| 73|      RG268|        Other|          X3|     43|            No|            1045696|       No|      0|        1.0|            2.0|         1.0|   (3,[2],[1.0])|(3,[1],[1.0])|      4.0|[73.0,43.0,104569...|\n",
            "|IDD62UNG|Female| 30|      RG277|     Salaried|          X1|     32|            No|             581988|       No|      0|        1.0|            1.0|         0.0|   (3,[1],[1.0])|(3,[0],[1.0])|      1.0|[30.0,32.0,581988...|\n",
            "|HD3DSEMC|Female| 56|      RG268|Self_Employed|          X3|     26|            No|            1484315|      Yes|      0|        1.0|            0.0|         1.0|   (3,[0],[1.0])|(3,[1],[1.0])|      4.0|[56.0,26.0,148431...|\n",
            "|BF3NC7KV|  Male| 34|      RG270|     Salaried|          X1|     19|            No|             470454|       No|      0|        0.0|            1.0|         0.0|   (3,[1],[1.0])|(3,[0],[1.0])|      1.0|(11,[0,1,2,5,7,10...|\n",
            "|TEASRWXV|Female| 30|      RG282|     Salaried|          X1|     33|            No|             886787|       No|      0|        1.0|            1.0|         0.0|   (3,[1],[1.0])|(3,[0],[1.0])|      1.0|[30.0,33.0,886787...|\n",
            "+--------+------+---+-----------+-------------+------------+-------+--------------+-------------------+---------+-------+-----------+---------------+------------+----------------+-------------+---------+--------------------+\n",
            "only showing top 5 rows\n",
            "\n"
          ]
        }
      ]
    },
    {
      "cell_type": "markdown",
      "metadata": {
        "id": "fQ3Hd-9zZfqS"
      },
      "source": [
        "**Модельки**\n",
        "\n",
        "Пора нам уже что-то обучить, начнем с логрега"
      ]
    },
    {
      "cell_type": "code",
      "execution_count": 55,
      "metadata": {
        "id": "yPjuQR3nZmNP"
      },
      "outputs": [],
      "source": [
        "from pyspark.ml.classification import LogisticRegression, LogisticRegressionModel"
      ]
    },
    {
      "cell_type": "code",
      "execution_count": 56,
      "metadata": {
        "id": "1E6G5HuFZ11p"
      },
      "outputs": [],
      "source": [
        "lr = LogisticRegression(featuresCol='features', labelCol='Is_Lead', predictionCol='prediction',\n",
        "                        maxIter=100, probabilityCol='proba')\n",
        "\n",
        "lr = lr.fit(transformed_data)"
      ]
    },
    {
      "cell_type": "markdown",
      "metadata": {
        "id": "q-rzIwuDws9m"
      },
      "source": [
        "Сохраним"
      ]
    },
    {
      "cell_type": "code",
      "execution_count": 59,
      "metadata": {
        "id": "B_7j3DSkwfzv"
      },
      "outputs": [],
      "source": [
        "lr.save('logreg_model')"
      ]
    },
    {
      "cell_type": "markdown",
      "metadata": {
        "id": "UNXljB3Bw9ui"
      },
      "source": [
        "Загрузка"
      ]
    },
    {
      "cell_type": "code",
      "execution_count": 60,
      "metadata": {
        "id": "DNPT1BVAwwdj"
      },
      "outputs": [],
      "source": [
        "lr2 = LogisticRegressionModel.load('logreg_model')"
      ]
    },
    {
      "cell_type": "markdown",
      "metadata": {
        "id": "kKQWHwILb9ZG"
      },
      "source": [
        "Коэффициенты и метрики"
      ]
    },
    {
      "cell_type": "code",
      "execution_count": 61,
      "metadata": {
        "colab": {
          "base_uri": "https://localhost:8080/"
        },
        "id": "_0UWzsFwav6u",
        "outputId": "b77c26c1-43d0-4dc9-ede4-648cea2d4097"
      },
      "outputs": [
        {
          "output_type": "stream",
          "name": "stdout",
          "text": [
            "Coefficients: [-0.016713044807987118,0.009916392983822526,9.91826749028193e-09,-0.05296577197114642,-1.5152849582681478,-0.5266676981678328,-1.5009517711168423,-1.5679772035552135,-0.1459536443737886,-0.05760664451981407,0.34189553941632866]\n",
            "Intercept: 0.09853176624209481\n"
          ]
        }
      ],
      "source": [
        "print(\"Coefficients: \" + str(lr.coefficients))\n",
        "print(\"Intercept: \" + str(lr.intercept))"
      ]
    },
    {
      "cell_type": "code",
      "execution_count": 62,
      "metadata": {
        "colab": {
          "base_uri": "https://localhost:8080/"
        },
        "id": "Y7G91sTrxQbs",
        "outputId": "d4cab0d9-aa97-4803-db42-c4403963f1ff"
      },
      "outputs": [
        {
          "output_type": "stream",
          "name": "stdout",
          "text": [
            "Coefficients: [-0.016713044807987118,0.009916392983822526,9.91826749028193e-09,-0.05296577197114642,-1.5152849582681478,-0.5266676981678328,-1.5009517711168423,-1.5679772035552135,-0.1459536443737886,-0.05760664451981407,0.34189553941632866]\n",
            "Intercept: 0.09853176624209481\n"
          ]
        }
      ],
      "source": [
        "print(\"Coefficients: \" + str(lr2.coefficients))\n",
        "print(\"Intercept: \" + str(lr2.intercept))"
      ]
    },
    {
      "cell_type": "code",
      "execution_count": 63,
      "metadata": {
        "colab": {
          "base_uri": "https://localhost:8080/"
        },
        "id": "K7gmjDu4blD1",
        "outputId": "ad01d3d1-05ed-4ad6-e913-83b23e852e75"
      },
      "outputs": [
        {
          "output_type": "stream",
          "name": "stdout",
          "text": [
            "ROC_AUC = 0.7291587894202233\n"
          ]
        }
      ],
      "source": [
        "print(f'ROC_AUC = {lr.summary.areaUnderROC}')"
      ]
    },
    {
      "cell_type": "code",
      "execution_count": 65,
      "metadata": {
        "colab": {
          "base_uri": "https://localhost:8080/"
        },
        "id": "SeL7Hy0Wa7xC",
        "outputId": "f07493af-b76a-4f6f-f078-a04f1021dc38"
      },
      "outputs": [
        {
          "output_type": "execute_result",
          "data": {
            "text/plain": [
              "[0.9880226422744709, 0.10472138347515783]"
            ]
          },
          "metadata": {},
          "execution_count": 65
        }
      ],
      "source": [
        "lr.summary.recallByLabel"
      ]
    },
    {
      "cell_type": "code",
      "execution_count": 66,
      "metadata": {
        "colab": {
          "base_uri": "https://localhost:8080/"
        },
        "id": "supy8ehjdDkz",
        "outputId": "310216c5-04a9-4501-b034-d8aed61a367e"
      },
      "outputs": [
        {
          "output_type": "execute_result",
          "data": {
            "text/plain": [
              "[Param(parent='LogisticRegression_e3b7ee647e8e', name='aggregationDepth', doc='suggested depth for treeAggregate (>= 2).'),\n",
              " Param(parent='LogisticRegression_e3b7ee647e8e', name='elasticNetParam', doc='the ElasticNet mixing parameter, in range [0, 1]. For alpha = 0, the penalty is an L2 penalty. For alpha = 1, it is an L1 penalty.'),\n",
              " Param(parent='LogisticRegression_e3b7ee647e8e', name='family', doc='The name of family which is a description of the label distribution to be used in the model. Supported options: auto, binomial, multinomial'),\n",
              " Param(parent='LogisticRegression_e3b7ee647e8e', name='featuresCol', doc='features column name.'),\n",
              " Param(parent='LogisticRegression_e3b7ee647e8e', name='fitIntercept', doc='whether to fit an intercept term.'),\n",
              " Param(parent='LogisticRegression_e3b7ee647e8e', name='labelCol', doc='label column name.'),\n",
              " Param(parent='LogisticRegression_e3b7ee647e8e', name='lowerBoundsOnCoefficients', doc='The lower bounds on coefficients if fitting under bound constrained optimization. The bound matrix must be compatible with the shape (1, number of features) for binomial regression, or (number of classes, number of features) for multinomial regression.'),\n",
              " Param(parent='LogisticRegression_e3b7ee647e8e', name='lowerBoundsOnIntercepts', doc='The lower bounds on intercepts if fitting under bound constrained optimization. The bounds vector size must beequal with 1 for binomial regression, or the number oflasses for multinomial regression.'),\n",
              " Param(parent='LogisticRegression_e3b7ee647e8e', name='maxBlockSizeInMB', doc='maximum memory in MB for stacking input data into blocks. Data is stacked within partitions. If more than remaining data size in a partition then it is adjusted to the data size. Default 0.0 represents choosing optimal value, depends on specific algorithm. Must be >= 0.'),\n",
              " Param(parent='LogisticRegression_e3b7ee647e8e', name='maxIter', doc='max number of iterations (>= 0).'),\n",
              " Param(parent='LogisticRegression_e3b7ee647e8e', name='predictionCol', doc='prediction column name.'),\n",
              " Param(parent='LogisticRegression_e3b7ee647e8e', name='probabilityCol', doc='Column name for predicted class conditional probabilities. Note: Not all models output well-calibrated probability estimates! These probabilities should be treated as confidences, not precise probabilities.'),\n",
              " Param(parent='LogisticRegression_e3b7ee647e8e', name='rawPredictionCol', doc='raw prediction (a.k.a. confidence) column name.'),\n",
              " Param(parent='LogisticRegression_e3b7ee647e8e', name='regParam', doc='regularization parameter (>= 0).'),\n",
              " Param(parent='LogisticRegression_e3b7ee647e8e', name='standardization', doc='whether to standardize the training features before fitting the model.'),\n",
              " Param(parent='LogisticRegression_e3b7ee647e8e', name='threshold', doc='Threshold in binary classification prediction, in range [0, 1]. If threshold and thresholds are both set, they must match.e.g. if threshold is p, then thresholds must be equal to [1-p, p].'),\n",
              " Param(parent='LogisticRegression_e3b7ee647e8e', name='thresholds', doc=\"Thresholds in multi-class classification to adjust the probability of predicting each class. Array must have length equal to the number of classes, with values > 0, excepting that at most one value may be 0. The class with largest value p/t is predicted, where p is the original probability of that class and t is the class's threshold.\"),\n",
              " Param(parent='LogisticRegression_e3b7ee647e8e', name='tol', doc='the convergence tolerance for iterative algorithms (>= 0).'),\n",
              " Param(parent='LogisticRegression_e3b7ee647e8e', name='upperBoundsOnCoefficients', doc='The upper bounds on coefficients if fitting under bound constrained optimization. The bound matrix must be compatible with the shape (1, number of features) for binomial regression, or (number of classes, number of features) for multinomial regression.'),\n",
              " Param(parent='LogisticRegression_e3b7ee647e8e', name='upperBoundsOnIntercepts', doc='The upper bounds on intercepts if fitting under bound constrained optimization. The bound vector size must be equal with 1 for binomial regression, or the number of classes for multinomial regression.'),\n",
              " Param(parent='LogisticRegression_e3b7ee647e8e', name='weightCol', doc='weight column name. If this is not set or empty, we treat all instance weights as 1.0.')]"
            ]
          },
          "metadata": {},
          "execution_count": 66
        }
      ],
      "source": [
        "lr.params"
      ]
    },
    {
      "cell_type": "code",
      "execution_count": 67,
      "metadata": {
        "colab": {
          "base_uri": "https://localhost:8080/"
        },
        "id": "qt98_rd6cGqJ",
        "outputId": "436daf8b-9d5a-4efb-e849-6d84c322cc13"
      },
      "outputs": [
        {
          "output_type": "stream",
          "name": "stdout",
          "text": [
            "+-------+--------------------+--------------------+--------------------+----------+\n",
            "|Is_Lead|            features|       rawPrediction|               proba|prediction|\n",
            "+-------+--------------------+--------------------+--------------------+----------+\n",
            "|      0|[73.0,43.0,104569...|[1.01703314359154...|[0.73439428907056...|       0.0|\n",
            "|      0|[30.0,32.0,581988...|[1.88547782413292...|[0.86823905458579...|       0.0|\n",
            "|      0|[56.0,26.0,148431...|[0.91147290916372...|[0.71330147094138...|       0.0|\n",
            "|      0|(11,[0,1,2,5,7,10...|[2.02938356422968...|[0.88384780907754...|       0.0|\n",
            "|      0|[30.0,33.0,886787...|[1.87253835313633...|[0.86675171295996...|       0.0|\n",
            "|      0|(11,[0,1,2,4,7,10...|[2.23035701748859...|[0.90294265153487...|       0.0|\n",
            "|      1|(11,[0,1,2,6,8,10...|[1.00819128083161...|[0.73266603083243...|       0.0|\n",
            "|      0|[48.0,13.0,444724...|[1.25888814052434...|[0.77883464798448...|       0.0|\n",
            "|      0|[40.0,38.0,127428...|[1.12259469904799...|[0.75446968923717...|       0.0|\n",
            "|      0|[55.0,49.0,201423...|[0.91497543730865...|[0.71401721118479...|       0.0|\n",
            "|      0|(11,[0,1,2,4,8,10...|[0.19336876809391...|[0.54819212095901...|       0.0|\n",
            "|      0|(11,[0,1,2,4,7],[...|[3.29216632766676...|[0.96415908979132...|       0.0|\n",
            "|      0|(11,[0,1,2,3,5,7]...|[2.29395368096059...|[0.90837504596206...|       0.0|\n",
            "|      0|(11,[0,1,2,5,7,10...|[1.85560298933415...|[0.86478361697150...|       0.0|\n",
            "|      0|(11,[0,1,2,6,8,10...|[0.92763379790491...|[0.71659498790825...|       0.0|\n",
            "|      1|(11,[0,1,2,4,9,10...|[0.99463529076603...|[0.73000250624176...|       0.0|\n",
            "|      1|[46.0,97.0,228250...|[0.70181981874054...|[0.66859112584372...|       0.0|\n",
            "|      1|[59.0,15.0,238469...|[1.04742899933033...|[0.74028089094995...|       0.0|\n",
            "|      0|[65.0,20.0,341573...|[1.03004250416164...|[0.73692413606874...|       0.0|\n",
            "|      0|[37.0,63.0,633484...|[2.32693873772034...|[0.91108365507307...|       0.0|\n",
            "+-------+--------------------+--------------------+--------------------+----------+\n",
            "only showing top 20 rows\n",
            "\n"
          ]
        }
      ],
      "source": [
        "lr.transform(transformed_data.select('Is_Lead', 'features')).show()"
      ]
    },
    {
      "cell_type": "markdown",
      "metadata": {
        "id": "Ipn37OYZfe_8"
      },
      "source": [
        "**Подбор параметров**\n",
        "\n",
        "Тут нет всяких hyperopt, optuna...есть стандартная кросс-валидация и поиск по сетке"
      ]
    },
    {
      "cell_type": "code",
      "execution_count": 68,
      "metadata": {
        "id": "Xm9NGSM-fwSZ"
      },
      "outputs": [],
      "source": [
        "from pyspark.ml.tuning import ParamGridBuilder, TrainValidationSplit, CrossValidator\n",
        "from pyspark.ml.evaluation import BinaryClassificationEvaluator"
      ]
    },
    {
      "cell_type": "markdown",
      "metadata": {
        "id": "akrk6N6HgWFa"
      },
      "source": [
        "Для этого соберем все в пайплайн. Можно было \"вложить\" старый пайплайн в новый, но соберем все с самого начала"
      ]
    },
    {
      "cell_type": "code",
      "execution_count": 69,
      "metadata": {
        "id": "A4SVMvaQgYfk"
      },
      "outputs": [],
      "source": [
        "#string в индесы\n",
        "gender_indexer = StringIndexer(inputCol=\"Gender\", outputCol=\"GenderIndex\")\n",
        "occupation_indexer = StringIndexer(inputCol=\"Occupation\", outputCol=\"OccupationIndex\")\n",
        "channel_indexer = StringIndexer(inputCol=\"Channel_Code\", outputCol=\"ChannelIndex\")\n",
        "\n",
        "#OHE\n",
        "ohe_encoder = OneHotEncoder(inputCols=[\"OccupationIndex\", \"ChannelIndex\"],\n",
        "                        outputCols=[\"OccupationVector\", \"ChannelVec\"])\n",
        "\n",
        "#квантизация\n",
        "discretizer = QuantileDiscretizer(numBuckets=5, inputCol=\"Age\", outputCol=\"Age_quant\")\n",
        "\n",
        "#собираем все в вектор\n",
        "feature_columns = [\n",
        "                   'Age',\n",
        "                   'Vintage',\n",
        "                   'Avg_Account_Balance',\n",
        "                   'GenderIndex',\n",
        "                   'OccupationVector',\n",
        "                   'ChannelVec',\n",
        "                   'Age_quant'                 \n",
        "]\n",
        "vector_assembler = VectorAssembler(inputCols = feature_columns, outputCol = 'features')\n",
        "\n",
        "lr = LogisticRegression(featuresCol='features', labelCol='Is_Lead', predictionCol='prediction',\n",
        "                        maxIter=100, probabilityCol='proba')"
      ]
    },
    {
      "cell_type": "code",
      "execution_count": 70,
      "metadata": {
        "id": "Rn8cK_B4gKRd"
      },
      "outputs": [],
      "source": [
        "pipeline = Pipeline(stages=[\n",
        "                           gender_indexer,\n",
        "                           occupation_indexer,\n",
        "                           channel_indexer,\n",
        "                           ohe_encoder,\n",
        "                           discretizer,\n",
        "                           vector_assembler,\n",
        "                           lr\n",
        "])"
      ]
    },
    {
      "cell_type": "markdown",
      "metadata": {
        "id": "T9gENnbniGi4"
      },
      "source": [
        "Сетка параметров"
      ]
    },
    {
      "cell_type": "code",
      "execution_count": 71,
      "metadata": {
        "id": "JC9hlYpFgtru"
      },
      "outputs": [],
      "source": [
        "paramGrid = ParamGridBuilder() \\\n",
        "    .addGrid(discretizer.numBuckets, [5, 10]) \\\n",
        "    .addGrid(lr.maxIter, [10, 20]) \\\n",
        "    .build()"
      ]
    },
    {
      "cell_type": "markdown",
      "metadata": {
        "id": "9pjHOyAbikU4"
      },
      "source": [
        "Разобьем данные на train, test"
      ]
    },
    {
      "cell_type": "code",
      "execution_count": 72,
      "metadata": {
        "id": "9fLrqVlwim3-"
      },
      "outputs": [],
      "source": [
        "train, test = data.randomSplit([0.7, 0.3], seed=7)"
      ]
    },
    {
      "cell_type": "markdown",
      "metadata": {
        "id": "vUu8wO5cjEQO"
      },
      "source": [
        "Описываем стратегию кросс-валидации"
      ]
    },
    {
      "cell_type": "code",
      "execution_count": 73,
      "metadata": {
        "id": "ppn-9HE1iNWN"
      },
      "outputs": [],
      "source": [
        "crossval = CrossValidator(estimator=pipeline,\n",
        "                          estimatorParamMaps=paramGrid,\n",
        "                          evaluator=BinaryClassificationEvaluator(rawPredictionCol='rawPrediction',\n",
        "                                                                  labelCol='Is_Lead', metricName='areaUnderROC'),\n",
        "                          numFolds=2,\n",
        "                          parallelism=2)"
      ]
    },
    {
      "cell_type": "markdown",
      "metadata": {
        "id": "UxsvDyaqkEvM"
      },
      "source": [
        "Гоняем сетку. Знаю, перебор по сетке прошлый век, но что поделать)"
      ]
    },
    {
      "cell_type": "code",
      "execution_count": 74,
      "metadata": {
        "id": "eLZZWrBoigSx"
      },
      "outputs": [],
      "source": [
        "cvModel = crossval.fit(train)"
      ]
    },
    {
      "cell_type": "code",
      "execution_count": 75,
      "metadata": {
        "colab": {
          "base_uri": "https://localhost:8080/"
        },
        "id": "n2rQLkQ4lqUY",
        "outputId": "9b26e819-9776-49a1-f52e-e4ea0a98cb0d"
      },
      "outputs": [
        {
          "output_type": "execute_result",
          "data": {
            "text/plain": [
              "[0.7288496129318909, 0.7292687203167076, 0.7285909942173556, 0.729215839539737]"
            ]
          },
          "metadata": {},
          "execution_count": 75
        }
      ],
      "source": [
        "cvModel.avgMetrics"
      ]
    },
    {
      "cell_type": "markdown",
      "metadata": {
        "id": "_KB9cRqbqRwu"
      },
      "source": [
        "Параметры"
      ]
    },
    {
      "cell_type": "code",
      "execution_count": 76,
      "metadata": {
        "colab": {
          "base_uri": "https://localhost:8080/"
        },
        "id": "PfkNIaY2qThi",
        "outputId": "6943a171-9027-4792-ff65-7cf433bfa3a6"
      },
      "outputs": [
        {
          "output_type": "stream",
          "name": "stdout",
          "text": [
            "{Param(parent='QuantileDiscretizer_81456031be4e', name='numBuckets', doc='Maximum number of buckets (quantiles, or categories) into which data points are grouped. Must be >= 2.'): 5, Param(parent='LogisticRegression_9615e7e8e556', name='maxIter', doc='max number of iterations (>= 0).'): 20}\n"
          ]
        }
      ],
      "source": [
        "import numpy as np\n",
        "print(cvModel.getEstimatorParamMaps()[np.argmax(cvModel.avgMetrics)])"
      ]
    },
    {
      "cell_type": "markdown",
      "metadata": {
        "id": "AOWVYH99qeFR"
      },
      "source": [
        "Сделаем предикт"
      ]
    },
    {
      "cell_type": "code",
      "execution_count": 77,
      "metadata": {
        "id": "JbsJtmC3l1KN"
      },
      "outputs": [],
      "source": [
        "test_pred = cvModel.transform(test)"
      ]
    },
    {
      "cell_type": "code",
      "execution_count": 78,
      "metadata": {
        "colab": {
          "base_uri": "https://localhost:8080/"
        },
        "id": "E-PfseCjm7Ih",
        "outputId": "90691663-d664-48dc-93d8-bb670b2e053d"
      },
      "outputs": [
        {
          "output_type": "stream",
          "name": "stdout",
          "text": [
            "+--------+------+---+-----------+-------------+------------+-------+--------------+-------------------+---------+-------+-----------+---------------+------------+----------------+-------------+---------+--------------------+--------------------+--------------------+----------+\n",
            "|      ID|Gender|Age|Region_Code|   Occupation|Channel_Code|Vintage|Credit_Product|Avg_Account_Balance|Is_Active|Is_Lead|GenderIndex|OccupationIndex|ChannelIndex|OccupationVector|   ChannelVec|Age_quant|            features|       rawPrediction|               proba|prediction|\n",
            "+--------+------+---+-----------+-------------+------------+-------+--------------+-------------------+---------+-------+-----------+---------------+------------+----------------+-------------+---------+--------------------+--------------------+--------------------+----------+\n",
            "|224VSEND|  Male| 29|      RG261|     Salaried|          X1|     13|            No|             736866|      Yes|      0|        0.0|            1.0|         0.0|   (3,[1],[1.0])|(3,[0],[1.0])|      1.0|(11,[0,1,2,5,7,10...|[2.01360806307522...|[0.88221844995396...|       0.0|\n",
            "|226C7GAH|  Male| 45|      RG268|Self_Employed|          X3|     93|            No|             634979|      Yes|      0|        0.0|            0.0|         1.0|   (3,[0],[1.0])|(3,[1],[1.0])|      2.0|(11,[0,1,2,4,8,10...|[0.70215318028974...|[0.66866498695466...|       0.0|\n",
            "|2293VNUQ|Female| 26|      RG271|     Salaried|          X1|     13|            No|             561928|       No|      0|        1.0|            1.0|         0.0|   (3,[1],[1.0])|(3,[0],[1.0])|      0.0|(11,[0,1,2,3,5,7]...|[2.35200398194772...|[0.91309338295717...|       0.0|\n",
            "|22A2ZYXE|Female| 72|      RG251|        Other|          X2|     74|           Yes|             845980|      Yes|      0|        1.0|            2.0|         2.0|   (3,[2],[1.0])|(3,[2],[1.0])|      4.0|[72.0,74.0,845980...|[0.60014407586441...|[0.64568926782122...|       0.0|\n",
            "|22AWEYJP|Female| 46|      RG261|Self_Employed|          X3|     51|            No|            1594443|       No|      1|        1.0|            0.0|         1.0|   (3,[0],[1.0])|(3,[1],[1.0])|      2.0|[46.0,51.0,159444...|[1.17738295429921...|[0.76447692575318...|       0.0|\n",
            "|22BAGKFG|  Male| 62|      RG284|        Other|          X2|     45|           Yes|             746122|       No|      0|        0.0|            2.0|         2.0|   (3,[2],[1.0])|(3,[2],[1.0])|      4.0|(11,[0,1,2,6,9,10...|[0.67996396514064...|[0.66373065474964...|       0.0|\n",
            "|22CCUDLW|  Male| 31|      RG254|     Salaried|          X1|     32|            No|            1021337|       No|      0|        0.0|            1.0|         0.0|   (3,[1],[1.0])|(3,[0],[1.0])|      1.0|(11,[0,1,2,5,7,10...|[1.85418818062989...|[0.86461809386997...|       0.0|\n",
            "|22EHAPRA|  Male| 71|      RG251|        Other|          X3|    110|            No|            1213960|      Yes|      1|        0.0|            2.0|         1.0|   (3,[2],[1.0])|(3,[1],[1.0])|      4.0|(11,[0,1,2,6,8,10...|[0.25852580445132...|[0.56427386741552...|       0.0|\n",
            "|22EYLWV9|  Male| 60|      RG282|Self_Employed|          X2|     97|            No|            1497086|       No|      0|        0.0|            0.0|         2.0|   (3,[0],[1.0])|(3,[2],[1.0])|      4.0|(11,[0,1,2,4,9,10...|[0.13843551672125...|[0.53455371338834...|       0.0|\n",
            "|22FOWQ35|  Male| 51|      RG273|Self_Employed|          X3|     37|           Yes|            1266060|       No|      1|        0.0|            0.0|         1.0|   (3,[0],[1.0])|(3,[1],[1.0])|      3.0|(11,[0,1,2,4,8,10...|[1.01536242617524...|[0.73406827247760...|       0.0|\n",
            "|22FYHU4G|  Male| 27|      RG284|     Salaried|          X1|     13|            No|             920179|       No|      0|        0.0|            1.0|         0.0|   (3,[1],[1.0])|(3,[0],[1.0])|      0.0|(11,[0,1,2,5,7],[...|[2.31753369148344...|[0.91031879863154...|       0.0|\n",
            "|22GKHLRT|  Male| 57|      RG254|Self_Employed|          X2|     32|            No|             561616|      Yes|      0|        0.0|            0.0|         2.0|   (3,[0],[1.0])|(3,[2],[1.0])|      4.0|(11,[0,1,2,4,9,10...|[0.74598468630021...|[0.67830315367936...|       0.0|\n",
            "|22GTBFLA|  Male| 57|      RG254|Self_Employed|          X3|     55|           Yes|            2236899|       No|      1|        0.0|            0.0|         1.0|   (3,[0],[1.0])|(3,[1],[1.0])|      4.0|(11,[0,1,2,4,8,10...|[0.58734450391746...|[0.64275561989341...|       0.0|\n",
            "|22KAE9CY|Female| 45|      RG283|        Other|          X2|     99|           Yes|            1034998|      Yes|      1|        1.0|            2.0|         2.0|   (3,[2],[1.0])|(3,[2],[1.0])|      2.0|[45.0,99.0,103499...|[0.58598936511851...|[0.64244439163295...|       0.0|\n",
            "|22KMFEDX|  Male| 64|      RG270|        Other|          X2|     21|            No|             345409|      Yes|      0|        0.0|            2.0|         2.0|   (3,[2],[1.0])|(3,[2],[1.0])|      4.0|(11,[0,1,2,6,9,10...|[0.95528018640869...|[0.72217582536207...|       0.0|\n",
            "|22NWGVDD|  Male| 77|      RG280|        Other|          X3|    129|           Yes|             715835|       No|      0|        0.0|            2.0|         1.0|   (3,[2],[1.0])|(3,[1],[1.0])|      4.0|(11,[0,1,2,6,8,10...|[0.17060477713693...|[0.54254804406662...|       0.0|\n",
            "|22O2OUPS|Female| 70|      RG253|        Other|          X2|     45|            No|            1795664|       No|      0|        1.0|            2.0|         2.0|   (3,[2],[1.0])|(3,[2],[1.0])|      4.0|[70.0,45.0,179566...|[0.84917179070398...|[0.70039337781888...|       0.0|\n",
            "|22PF8VHQ|  Male| 65|      RG263|        Other|          X2|    104|           Yes|             714865|      Yes|      1|        0.0|            2.0|         2.0|   (3,[2],[1.0])|(3,[2],[1.0])|      4.0|(11,[0,1,2,6,9,10...|[0.14026064324875...|[0.53500778713161...|       0.0|\n",
            "|22RDEFWM|  Male| 48|      RG267|Self_Employed|          X3|     99|            No|             576728|       No|      0|        0.0|            0.0|         1.0|   (3,[0],[1.0])|(3,[1],[1.0])|      3.0|(11,[0,1,2,4,8,10...|[0.35358475707128...|[0.58748660240391...|       0.0|\n",
            "|22RQT8WL|Female| 39|      RG274|Self_Employed|          X2|     32|           Yes|            1322379|       No|      0|        1.0|            0.0|         2.0|   (3,[0],[1.0])|(3,[2],[1.0])|      2.0|[39.0,32.0,132237...|[1.17070752413449...|[0.76327288022869...|       0.0|\n",
            "+--------+------+---+-----------+-------------+------------+-------+--------------+-------------------+---------+-------+-----------+---------------+------------+----------------+-------------+---------+--------------------+--------------------+--------------------+----------+\n",
            "only showing top 20 rows\n",
            "\n"
          ]
        }
      ],
      "source": [
        "test_pred.show()"
      ]
    },
    {
      "cell_type": "markdown",
      "metadata": {
        "id": "LA5pbziMoRDT"
      },
      "source": [
        "Проверим модель"
      ]
    },
    {
      "cell_type": "code",
      "execution_count": 79,
      "metadata": {
        "id": "eO7WOldKoEqK"
      },
      "outputs": [],
      "source": [
        "evaluator = BinaryClassificationEvaluator(rawPredictionCol='rawPrediction',\n",
        "                                          labelCol='Is_Lead', metricName='areaUnderROC')"
      ]
    },
    {
      "cell_type": "code",
      "execution_count": 80,
      "metadata": {
        "colab": {
          "base_uri": "https://localhost:8080/"
        },
        "id": "5bH_zffaoLJy",
        "outputId": "deccdd7a-76f1-4246-d251-a091ff6ec7b3"
      },
      "outputs": [
        {
          "output_type": "execute_result",
          "data": {
            "text/plain": [
              "0.7282678459607251"
            ]
          },
          "metadata": {},
          "execution_count": 80
        }
      ],
      "source": [
        "evaluator.evaluate(test_pred)"
      ]
    },
    {
      "cell_type": "markdown",
      "metadata": {
        "id": "KiOvzq7Sqi8d"
      },
      "source": [
        "Сохраним пайплайн"
      ]
    },
    {
      "cell_type": "code",
      "execution_count": 81,
      "metadata": {
        "id": "DSYb-f_AqlFL"
      },
      "outputs": [],
      "source": [
        "cvModel.write().save('model')"
      ]
    },
    {
      "cell_type": "markdown",
      "metadata": {
        "id": "sv0etfqprdpj"
      },
      "source": [
        "вместо кросс-валидации можно взять TrainValidationSplit для подбора параметров, это train_test_split"
      ]
    },
    {
      "cell_type": "markdown",
      "metadata": {
        "id": "9aco7h88Jv3m"
      },
      "source": [
        "**Ваша любимая домашка**"
      ]
    },
    {
      "cell_type": "markdown",
      "metadata": {
        "id": "hzvvR75kJ4v8"
      },
      "source": [
        "Кто проходил курс GPU прекрасно знают датасет.\n",
        "Данные находятся в файле Train_Set_90621.csv\n",
        "Amount Defaulted - эту переменную нужно удалить=)\n",
        "\n",
        "Что ожидается? - творчество)\n",
        "\n",
        "    1) Начните с анализа баланса классов, пропусков, статистик при помощи DataFrame API\n",
        "    2) Посомтрите статистики, заполните пропуски при помощи уже MLlib\n",
        "    3) Соберите пайплайн, похожий на наш, где будет обработка данных, обучение моделей и все при помощи Spark\n",
        "    4) Разбейте данные на train/test + реализуйте подбор параметров одним из способов спарка\n",
        "    5) Cохраниет пайплайн на диск\n",
        "    6) Проверьте качество модели на отложенной test выборке\n",
        "\n",
        "\n"
      ]
    },
    {
      "cell_type": "code",
      "source": [
        "from google.colab import drive\n",
        "drive.mount('/content/drive/')\n",
        "\n",
        "%cd drive/MyDrive/sber_risk_spark/lesson_4/"
      ],
      "metadata": {
        "colab": {
          "base_uri": "https://localhost:8080/"
        },
        "id": "q2-fPTl9igBl",
        "outputId": "0fbde6e5-bcd6-4efa-f951-c4e98f964416"
      },
      "execution_count": 1,
      "outputs": [
        {
          "output_type": "stream",
          "name": "stdout",
          "text": [
            "Mounted at /content/drive/\n",
            "/content/drive/MyDrive/sber_risk_spark/lesson_4\n"
          ]
        }
      ]
    },
    {
      "cell_type": "code",
      "source": [
        "!pip install pyspark findspark"
      ],
      "metadata": {
        "colab": {
          "base_uri": "https://localhost:8080/"
        },
        "id": "WsFsUoFtirim",
        "outputId": "71b2b67a-f8a8-4098-e2a7-1644651f6792"
      },
      "execution_count": 3,
      "outputs": [
        {
          "output_type": "stream",
          "name": "stdout",
          "text": [
            "Collecting pyspark\n",
            "  Downloading pyspark-3.2.0.tar.gz (281.3 MB)\n",
            "\u001b[K     |████████████████████████████████| 281.3 MB 37 kB/s \n",
            "\u001b[?25hCollecting findspark\n",
            "  Downloading findspark-1.4.2-py2.py3-none-any.whl (4.2 kB)\n",
            "Collecting py4j==0.10.9.2\n",
            "  Downloading py4j-0.10.9.2-py2.py3-none-any.whl (198 kB)\n",
            "\u001b[K     |████████████████████████████████| 198 kB 14.8 MB/s \n",
            "\u001b[?25hBuilding wheels for collected packages: pyspark\n",
            "  Building wheel for pyspark (setup.py) ... \u001b[?25l\u001b[?25hdone\n",
            "  Created wheel for pyspark: filename=pyspark-3.2.0-py2.py3-none-any.whl size=281805912 sha256=1af9f1c7d87221ee9deffcaf469ef2d8159a4e49bb66b82529555aa817ce39f9\n",
            "  Stored in directory: /root/.cache/pip/wheels/0b/de/d2/9be5d59d7331c6c2a7c1b6d1a4f463ce107332b1ecd4e80718\n",
            "Successfully built pyspark\n",
            "Installing collected packages: py4j, pyspark, findspark\n",
            "Successfully installed findspark-1.4.2 py4j-0.10.9.2 pyspark-3.2.0\n"
          ]
        }
      ]
    },
    {
      "cell_type": "code",
      "source": [
        "from pyspark.sql import SparkSession\n",
        "from pyspark import SparkContext, SparkConf\n",
        "\n",
        "conf = SparkConf().set('spark.ui.port', '4050').set('spark.serializer', 'org.apache.spark.serializer.KryoSerializer')\\\n",
        "                  .set('spark.dynamicAllocation.enabled', 'true')\\\n",
        "                  .set('spark.shuffle.service.enabled', 'true') #трекер, чтобы возвращать ресурсы\n",
        "sc = SparkContext(conf=conf)\n",
        "spark = SparkSession.builder.master('local[*]').getOrCreate()"
      ],
      "metadata": {
        "id": "hd3HRIJyigbj"
      },
      "execution_count": 4,
      "outputs": []
    },
    {
      "cell_type": "code",
      "source": [
        "data = spark.read.csv('Train_Set_90621.csv', header=True, inferSchema=True)"
      ],
      "metadata": {
        "id": "8gXO_09xfklL"
      },
      "execution_count": 66,
      "outputs": []
    },
    {
      "cell_type": "code",
      "source": [
        "# удаление Amount Defaulted & Approved_Timestamp\n",
        "data = data.drop('Amount Defaulted', 'Approved_Timestamp')\n",
        "\n",
        "data.show(3)"
      ],
      "metadata": {
        "colab": {
          "base_uri": "https://localhost:8080/"
        },
        "id": "0oCgKr94i_MY",
        "outputId": "2e699b56-efb9-4a6d-9393-5d49387c5395"
      },
      "execution_count": 67,
      "outputs": [
        {
          "output_type": "stream",
          "name": "stdout",
          "text": [
            "+--------------+--------------+---------+--------------------+--------------------+---------------------------+-------------+------------+----+-------------+-------------+---------+----------------------+----------+-------------+------------------------------+-----------------------+----------------------------+------------------+-------------------+-------------+--------------+--------------------+------------------+------------+-------------------+--------------+\n",
            "|Application ID|   Bank Masked|Bank Type|         Name Masked|Business Owner State|Business_Industry_Type_Code|Approved_Year|New Business|Term|    BankState|Interest Rate|Employees|Gross Disbursed Amount|Term_years|Jobs Retained|Male to Female Employees Ratio|Expected Company Income|Funds available with company|Gross_Apprv_Amount|Company Branch Code|City or Rural|Jobs Generated|Carry-forward Credit|Documents Provided|Balance Left|Final_Appved_Amount|Default_Status|\n",
            "+--------------+--------------+---------+--------------------+--------------------+---------------------------+-------------+------------+----+-------------+-------------+---------+----------------------+----------+-------------+------------------------------+-----------------------+----------------------------+------------------+-------------------+-------------+--------------+--------------------+------------------+------------+-------------------+--------------+\n",
            "|    1020200001| Bank_Name_316|  Private| Business_Name_10007|       Uttar Pradesh|                     525161|         2005|           1| 219|Uttar Pradesh|            3|       42|              18550000|        18|           18|                             4|                3500000|                      780590|          18550000|              25650|            1|             3|                   N|                 N|           0|           13912500|             0|\n",
            "|    1020200002|Bank_Name_1062|     Govt|Business_Name_130906|       Uttar Pradesh|                       1231|         2006|           1|  71|Uttar Pradesh|            5|       20|               3045000|         6|           10|                            16|                1666667|                     1835637|           2450000|                  0|            1|             0|                   Y|                 N|           0|            1225000|             1|\n",
            "|    1020200003|  Bank_Name_39|  Private|Business_Name_105953|       Uttar Pradesh|                     322442|         2007|           2|  84|  Maharashtra|            8|       16|               1750000|         7|           10|                             8|                1333333|                     2373333|           1750000|                  0|            2|             2|                   Y|                 N|           0|            1487500|             0|\n",
            "+--------------+--------------+---------+--------------------+--------------------+---------------------------+-------------+------------+----+-------------+-------------+---------+----------------------+----------+-------------+------------------------------+-----------------------+----------------------------+------------------+-------------------+-------------+--------------+--------------------+------------------+------------+-------------------+--------------+\n",
            "only showing top 3 rows\n",
            "\n"
          ]
        }
      ]
    },
    {
      "cell_type": "code",
      "source": [
        "from pyspark.sql.functions import col, isnan, when, count\n",
        "\n",
        "# check for NaN values\n",
        "data.select([count(when(isnan(c) | col(c).isNull(), c)).alias(c) for c in data.columns]).show()"
      ],
      "metadata": {
        "colab": {
          "base_uri": "https://localhost:8080/"
        },
        "id": "k-p1FxRJjUDi",
        "outputId": "a0813255-3d51-41b6-f777-3b1340f32bf7"
      },
      "execution_count": 68,
      "outputs": [
        {
          "output_type": "stream",
          "name": "stdout",
          "text": [
            "+--------------+-----------+---------+-----------+--------------------+---------------------------+-------------+------------+----+---------+-------------+---------+----------------------+----------+-------------+------------------------------+-----------------------+----------------------------+------------------+-------------------+-------------+--------------+--------------------+------------------+------------+-------------------+--------------+\n",
            "|Application ID|Bank Masked|Bank Type|Name Masked|Business Owner State|Business_Industry_Type_Code|Approved_Year|New Business|Term|BankState|Interest Rate|Employees|Gross Disbursed Amount|Term_years|Jobs Retained|Male to Female Employees Ratio|Expected Company Income|Funds available with company|Gross_Apprv_Amount|Company Branch Code|City or Rural|Jobs Generated|Carry-forward Credit|Documents Provided|Balance Left|Final_Appved_Amount|Default_Status|\n",
            "+--------------+-----------+---------+-----------+--------------------+---------------------------+-------------+------------+----+---------+-------------+---------+----------------------+----------+-------------+------------------------------+-----------------------+----------------------------+------------------+-------------------+-------------+--------------+--------------------+------------------+------------+-------------------+--------------+\n",
            "|             0|         80|       80|          1|                   3|                          0|            0|          36|   0|       81|            0|        0|                     0|         0|            0|                             0|                      3|                           0|                 0|                  0|            0|             0|                 978|               552|           0|                  0|             0|\n",
            "+--------------+-----------+---------+-----------+--------------------+---------------------------+-------------+------------+----+---------+-------------+---------+----------------------+----------+-------------+------------------------------+-----------------------+----------------------------+------------------+-------------------+-------------+--------------+--------------------+------------------+------------+-------------------+--------------+\n",
            "\n"
          ]
        }
      ]
    },
    {
      "cell_type": "code",
      "source": [
        "# class balance\n",
        "data.groupBy('Default_Status').count().show()"
      ],
      "metadata": {
        "colab": {
          "base_uri": "https://localhost:8080/"
        },
        "id": "cF7_t33TjnUL",
        "outputId": "b1808976-193d-48ab-fa34-dcc905ceb108"
      },
      "execution_count": 69,
      "outputs": [
        {
          "output_type": "stream",
          "name": "stdout",
          "text": [
            "+--------------+------+\n",
            "|Default_Status| count|\n",
            "+--------------+------+\n",
            "|             1| 35238|\n",
            "|             0|159880|\n",
            "+--------------+------+\n",
            "\n"
          ]
        }
      ]
    },
    {
      "cell_type": "code",
      "source": [
        "# statistics\n",
        "data.summary().show()"
      ],
      "metadata": {
        "colab": {
          "base_uri": "https://localhost:8080/"
        },
        "id": "Pkaf7JpzkYOk",
        "outputId": "4c09cbc4-93e4-465e-8168-1809f6136afb"
      },
      "execution_count": 70,
      "outputs": [
        {
          "output_type": "stream",
          "name": "stdout",
          "text": [
            "+-------+-----------------+---------------+---------+-------------------+--------------------+---------------------------+-----------------+-------------------+------------------+-----------+-----------------+------------------+----------------------+-----------------+------------------+------------------------------+-----------------------+----------------------------+--------------------+-------------------+------------------+------------------+--------------------+------------------+-----------------+--------------------+-------------------+\n",
            "|summary|   Application ID|    Bank Masked|Bank Type|        Name Masked|Business Owner State|Business_Industry_Type_Code|    Approved_Year|       New Business|              Term|  BankState|    Interest Rate|         Employees|Gross Disbursed Amount|       Term_years|     Jobs Retained|Male to Female Employees Ratio|Expected Company Income|Funds available with company|  Gross_Apprv_Amount|Company Branch Code|     City or Rural|    Jobs Generated|Carry-forward Credit|Documents Provided|     Balance Left| Final_Appved_Amount|     Default_Status|\n",
            "+-------+-----------------+---------------+---------+-------------------+--------------------+---------------------------+-----------------+-------------------+------------------+-----------+-----------------+------------------+----------------------+-----------------+------------------+------------------------------+-----------------------+----------------------------+--------------------+-------------------+------------------+------------------+--------------------+------------------+-----------------+--------------------+-------------------+\n",
            "|  count|           195118|         195038|   195038|             195117|              195115|                     195118|           195118|             195082|            195118|     195037|           195118|            195118|                195118|           195118|            195118|                        195118|                 195115|                      195118|              195118|             195118|            195118|            195118|              194140|            194566|           195118|              195118|             195118|\n",
            "|   mean|   1.0202975595E9|           null|     null|               null|                null|          399104.7059881713|2008.122751360715| 1.2793030623020063|110.73985998216465|        0.0|7.327914390266403|19.122981990385306|   1.414491644937935E7|9.245461720599842|11.418362221834991|             15.32921104152359|   1.8325220522256106E7|           1253178.777488494|1.3565614745999856E7|  2812.721501860413|0.7546971576174417| 9.055151241812647|                null|              null| 9.18418597976609| 1.052897772045634E7|0.18059840711774414|\n",
            "| stddev|56325.85924925306|           null|     null|               null|                null|         263815.88967135985|6.256458086968017|0.45111900679753353|  78.8517723449656|        0.0| 2.97771377479778|130.03260689491435|  2.0299306581284165E7|6.569698906552671| 248.7441977059397|               11.791946682111|     1.75906858249903E8|           645567.0835725039| 1.996955197290655E7|    12897.919612614|0.6469141971067718|248.31703711245234|                null|              null|3962.911449725469|1.6101767759185832E7| 0.3846860809731266|\n",
            "|    min|       1020200001|    Bank_Name_1|     Govt|    Business_Name_1|               Delhi|                       1230|             1900|                  0|                 0|          0|                2|                 0|                     0|                0|                 0|                             1|                      0|                      100002|               14000|                  0|                 0|                 0|                   N|                 N|                0|                7000|                  0|\n",
            "|    25%|       1020248761|           null|     null|               null|                null|                     236341|             2005|                  1|                60|        0.0|                5|                 3|               2944550|                5|                 0|                             7|                 500000|                      699506|             2450000|                  1|                 0|                 0|                null|              null|                0|             1487500|                  0|\n",
            "|    50%|       1020297541|           null|     null|               null|                null|                     446541|             2009|                  1|                84|        0.0|                7|                 7|               7000000|                7|                 1|                            13|                1500000|                     1239644|             6300000|                  1|                 1|                 0|                null|              null|                0|             4375000|                  0|\n",
            "|    75%|       1020346344|           null|     null|               null|                null|                     562961|             2011|                  2|               120|        0.0|               10|                17|              16730000|               10|                 4|                            19|                7200000|                     1778289|            15890000|                  1|                 1|                 1|                null|              null|                0|            12250000|                  0|\n",
            "|    max|       1020395118|Bank_Number_999|  Private|Business_Name_99999|         Uttarakhand|                     929351|             2017|                  2|               461|Uttarakhand|               12|             22222|             732550000|               38|              8800|                            50|            43200000000|                     2500000|           350000000|              92000|                 2|              8800|                   Y|                 Y|          1750000|           315000000|                  1|\n",
            "+-------+-----------------+---------------+---------+-------------------+--------------------+---------------------------+-----------------+-------------------+------------------+-----------+-----------------+------------------+----------------------+-----------------+------------------+------------------------------+-----------------------+----------------------------+--------------------+-------------------+------------------+------------------+--------------------+------------------+-----------------+--------------------+-------------------+\n",
            "\n"
          ]
        }
      ]
    },
    {
      "cell_type": "code",
      "source": [
        "# integer columns with NaNs\n",
        "data.select([count(when(isnan(c) | col(c).isNull(), c)).alias(c) \n",
        "    for c in data.columns if data.select(c).dtypes[0][1]=='int']).show()"
      ],
      "metadata": {
        "colab": {
          "base_uri": "https://localhost:8080/"
        },
        "id": "n9COp0lBm9az",
        "outputId": "1363477b-264f-4f26-a99f-a8e2ee1f080f"
      },
      "execution_count": 71,
      "outputs": [
        {
          "output_type": "stream",
          "name": "stdout",
          "text": [
            "+--------------+---------------------------+-------------+------------+----+-------------+---------+----------------------+----------+-------------+------------------------------+----------------------------+------------------+-------------------+-------------+--------------+------------+-------------------+--------------+\n",
            "|Application ID|Business_Industry_Type_Code|Approved_Year|New Business|Term|Interest Rate|Employees|Gross Disbursed Amount|Term_years|Jobs Retained|Male to Female Employees Ratio|Funds available with company|Gross_Apprv_Amount|Company Branch Code|City or Rural|Jobs Generated|Balance Left|Final_Appved_Amount|Default_Status|\n",
            "+--------------+---------------------------+-------------+------------+----+-------------+---------+----------------------+----------+-------------+------------------------------+----------------------------+------------------+-------------------+-------------+--------------+------------+-------------------+--------------+\n",
            "|             0|                          0|            0|          36|   0|            0|        0|                     0|         0|            0|                             0|                           0|                 0|                  0|            0|             0|           0|                  0|             0|\n",
            "+--------------+---------------------------+-------------+------------+----+-------------+---------+----------------------+----------+-------------+------------------------------+----------------------------+------------------+-------------------+-------------+--------------+------------+-------------------+--------------+\n",
            "\n"
          ]
        }
      ]
    },
    {
      "cell_type": "code",
      "source": [
        "# string columns with NaNs\n",
        "data.select([count(when(isnan(c) | col(c).isNull(), c)).alias(c) \n",
        "    for c in data.columns if data.select(c).dtypes[0][1]=='string']).show()"
      ],
      "metadata": {
        "colab": {
          "base_uri": "https://localhost:8080/"
        },
        "id": "5C40tG2RnbEf",
        "outputId": "abe38b1e-0163-4c95-8052-907dfe5e2e57"
      },
      "execution_count": 72,
      "outputs": [
        {
          "output_type": "stream",
          "name": "stdout",
          "text": [
            "+-----------+---------+-----------+--------------------+---------+--------------------+------------------+\n",
            "|Bank Masked|Bank Type|Name Masked|Business Owner State|BankState|Carry-forward Credit|Documents Provided|\n",
            "+-----------+---------+-----------+--------------------+---------+--------------------+------------------+\n",
            "|         80|       80|          1|                   3|       81|                 978|               552|\n",
            "+-----------+---------+-----------+--------------------+---------+--------------------+------------------+\n",
            "\n"
          ]
        }
      ]
    },
    {
      "cell_type": "code",
      "source": [
        "# fill integer NaNs\n",
        "from pyspark.ml.feature import Imputer\n",
        "\n",
        "imputer = Imputer(inputCols=[\"New Business\"], outputCols=[\"New Business\"], strategy='mean')\n",
        "imputer = imputer.fit(data)\n",
        "data = imputer.transform(data)"
      ],
      "metadata": {
        "id": "0Rxz12Vjlocb"
      },
      "execution_count": 73,
      "outputs": []
    },
    {
      "cell_type": "code",
      "source": [
        "import pyspark.sql.functions as F\n",
        "\n",
        "# fill string NaNs with the most frequent values\n",
        "for col in [c for c in data.columns if data.select(c).dtypes[0][1]=='string']:\n",
        "    most_freq = data.groupBy(col).count().orderBy('count', ascending=False).first()[col]\n",
        "    data = data.fillna({col: most_freq})"
      ],
      "metadata": {
        "id": "095rN7WBp8K-"
      },
      "execution_count": 75,
      "outputs": []
    },
    {
      "cell_type": "code",
      "source": [
        "data.show(5)"
      ],
      "metadata": {
        "colab": {
          "base_uri": "https://localhost:8080/"
        },
        "id": "yY8EWzyTuu40",
        "outputId": "8a874689-94ad-4807-c9f4-ff63cf74f4e2"
      },
      "execution_count": 87,
      "outputs": [
        {
          "output_type": "stream",
          "name": "stdout",
          "text": [
            "+--------------+--------------+---------+--------------------+--------------------+---------------------------+-------------+------------+----+-------------+-------------+---------+----------------------+----------+-------------+------------------------------+-----------------------+----------------------------+------------------+-------------------+-------------+--------------+--------------------+------------------+------------+-------------------+--------------+\n",
            "|Application ID|   Bank Masked|Bank Type|         Name Masked|Business Owner State|Business_Industry_Type_Code|Approved_Year|New Business|Term|    BankState|Interest Rate|Employees|Gross Disbursed Amount|Term_years|Jobs Retained|Male to Female Employees Ratio|Expected Company Income|Funds available with company|Gross_Apprv_Amount|Company Branch Code|City or Rural|Jobs Generated|Carry-forward Credit|Documents Provided|Balance Left|Final_Appved_Amount|Default_Status|\n",
            "+--------------+--------------+---------+--------------------+--------------------+---------------------------+-------------+------------+----+-------------+-------------+---------+----------------------+----------+-------------+------------------------------+-----------------------+----------------------------+------------------+-------------------+-------------+--------------+--------------------+------------------+------------+-------------------+--------------+\n",
            "|    1020200001| Bank_Name_316|  Private| Business_Name_10007|       Uttar Pradesh|                     525161|         2005|           1| 219|Uttar Pradesh|            3|       42|              18550000|        18|           18|                             4|                3500000|                      780590|          18550000|              25650|            1|             3|                   N|                 N|           0|           13912500|             0|\n",
            "|    1020200002|Bank_Name_1062|     Govt|Business_Name_130906|       Uttar Pradesh|                       1231|         2006|           1|  71|Uttar Pradesh|            5|       20|               3045000|         6|           10|                            16|                1666667|                     1835637|           2450000|                  0|            1|             0|                   Y|                 N|           0|            1225000|             1|\n",
            "|    1020200003|  Bank_Name_39|  Private|Business_Name_105953|       Uttar Pradesh|                     322442|         2007|           2|  84|  Maharashtra|            8|       16|               1750000|         7|           10|                             8|                1333333|                     2373333|           1750000|                  0|            2|             2|                   Y|                 N|           0|            1487500|             0|\n",
            "|    1020200004|   Bank_Name_3|     Govt|Business_Name_103197|              Kerala|                       1231|         2009|           1| 300|        Delhi|            8|        4|              38850000|        25|            2|                             6|                 333333|                     2346786|          38850000|                  1|            1|             0|                   N|                 N|           0|           29137500|             0|\n",
            "|    1020200005| Bank_Name_126|     Govt|Business_Name_118932|               Delhi|                       1231|         2002|           2| 153|  Maharashtra|           11|        4|               2800000|        13|            0|                             8|                 333333|                     2382995|           2800000|                  1|            2|             0|                   N|                 Y|           0|            2380000|             0|\n",
            "+--------------+--------------+---------+--------------------+--------------------+---------------------------+-------------+------------+----+-------------+-------------+---------+----------------------+----------+-------------+------------------------------+-----------------------+----------------------------+------------------+-------------------+-------------+--------------+--------------------+------------------+------------+-------------------+--------------+\n",
            "only showing top 5 rows\n",
            "\n"
          ]
        }
      ]
    },
    {
      "cell_type": "code",
      "source": [
        "# count distinct values in columns\n",
        "data.agg(*(F.countDistinct(F.col(c)).alias(c) for c in data.columns)).show()\n",
        "\n",
        "# delete string columns with a lot of unique values\n",
        "data = data.drop('Bank Masked', 'Name Masked', 'Business_Industry_Type_Code', 'Company Branch Code')"
      ],
      "metadata": {
        "colab": {
          "base_uri": "https://localhost:8080/"
        },
        "id": "8Ns9LuyFvcsJ",
        "outputId": "fdc97e48-eedd-48d8-8d59-e41ead975d1d"
      },
      "execution_count": 88,
      "outputs": [
        {
          "output_type": "stream",
          "name": "stdout",
          "text": [
            "+--------------+-----------+---------+-----------+--------------------+---------------------------+-------------+------------+----+---------+-------------+---------+----------------------+----------+-------------+------------------------------+-----------------------+----------------------------+------------------+-------------------+-------------+--------------+--------------------+------------------+------------+-------------------+--------------+\n",
            "|Application ID|Bank Masked|Bank Type|Name Masked|Business Owner State|Business_Industry_Type_Code|Approved_Year|New Business|Term|BankState|Interest Rate|Employees|Gross Disbursed Amount|Term_years|Jobs Retained|Male to Female Employees Ratio|Expected Company Income|Funds available with company|Gross_Apprv_Amount|Company Branch Code|City or Rural|Jobs Generated|Carry-forward Credit|Documents Provided|Balance Left|Final_Appved_Amount|Default_Status|\n",
            "+--------------+-----------+---------+-----------+--------------------+---------------------------+-------------+------------+----+---------+-------------+---------+----------------------+----------+-------------+------------------------------+-----------------------+----------------------------+------------------+-------------------+-------------+--------------+--------------------+------------------+------------+-------------------+--------------+\n",
            "|        195118|      42529|        2|     150526|                  10|                       2077|           19|           3| 364|       12|           11|      431|                 36989|        39|          234|                            50|                   1854|                      186948|              9034|               1635|            3|           154|                   2|                 2|           3|              15496|             2|\n",
            "+--------------+-----------+---------+-----------+--------------------+---------------------------+-------------+------------+----+---------+-------------+---------+----------------------+----------+-------------+------------------------------+-----------------------+----------------------------+------------------+-------------------+-------------+--------------+--------------------+------------------+------------+-------------------+--------------+\n",
            "\n"
          ]
        }
      ]
    },
    {
      "cell_type": "code",
      "source": [
        "# integer columns with NaNs\n",
        "data.select([count(when(isnan(c) | F.col(c).isNull(), c)).alias(c) \n",
        "    for c in data.columns if data.select(c).dtypes[0][1]=='int']).show()"
      ],
      "metadata": {
        "colab": {
          "base_uri": "https://localhost:8080/"
        },
        "id": "a8wuH0Tk0UsS",
        "outputId": "705bc589-4335-4f57-c26b-ce7a761a3c26"
      },
      "execution_count": 89,
      "outputs": [
        {
          "output_type": "stream",
          "name": "stdout",
          "text": [
            "+--------------+-------------+------------+----+-------------+---------+----------------------+----------+-------------+------------------------------+----------------------------+------------------+-------------+--------------+------------+-------------------+--------------+\n",
            "|Application ID|Approved_Year|New Business|Term|Interest Rate|Employees|Gross Disbursed Amount|Term_years|Jobs Retained|Male to Female Employees Ratio|Funds available with company|Gross_Apprv_Amount|City or Rural|Jobs Generated|Balance Left|Final_Appved_Amount|Default_Status|\n",
            "+--------------+-------------+------------+----+-------------+---------+----------------------+----------+-------------+------------------------------+----------------------------+------------------+-------------+--------------+------------+-------------------+--------------+\n",
            "|             0|            0|           0|   0|            0|        0|                     0|         0|            0|                             0|                           0|                 0|            0|             0|           0|                  0|             0|\n",
            "+--------------+-------------+------------+----+-------------+---------+----------------------+----------+-------------+------------------------------+----------------------------+------------------+-------------+--------------+------------+-------------------+--------------+\n",
            "\n"
          ]
        }
      ]
    },
    {
      "cell_type": "code",
      "source": [
        "from pyspark.ml.feature import StringIndexer, IndexToString, OneHotEncoder\n",
        "from pyspark.ml import Pipeline\n",
        "from pyspark.ml.feature import QuantileDiscretizer, VectorAssembler\n",
        "\n",
        "from pyspark.ml.classification import LogisticRegression, LogisticRegressionModel\n",
        "\n",
        "from pyspark.ml.tuning import ParamGridBuilder, CrossValidator\n",
        "from pyspark.ml.evaluation import BinaryClassificationEvaluator"
      ],
      "metadata": {
        "id": "UOF0g3gQst9Y"
      },
      "execution_count": 94,
      "outputs": []
    },
    {
      "cell_type": "code",
      "source": [
        "#string в индесы\n",
        "BankType_indexer = StringIndexer(inputCol=\"Bank Type\", outputCol=\"BankTypeIndex\")\n",
        "BusOwner_indexer = StringIndexer(inputCol=\"Business Owner State\", outputCol=\"BusOwnerIndex\")\n",
        "BankState_indexer = StringIndexer(inputCol=\"BankState\", outputCol=\"BankStateIndex\")\n",
        "Carry_indexer = StringIndexer(inputCol=\"Carry-forward Credit\", outputCol=\"CarryCreditIndex\")\n",
        "Docs_indexer = StringIndexer(inputCol=\"Documents Provided\", outputCol=\"DocsProvIndex\")\n",
        "\n",
        "#OHE\n",
        "ohe_encoder = OneHotEncoder(inputCols=[\"BankTypeIndex\", \"BusOwnerIndex\",\n",
        "                                       \"BankStateIndex\", \"CarryCreditIndex\", \n",
        "                                       \"DocsProvIndex\"],\n",
        "                            outputCols=[\"BankTypeVec\", \"BusOwnerVec\",\n",
        "                                        \"BankStateVec\", \"CarryCreditVec\",\n",
        "                                        \"DocsProvVec\"])\n",
        "\n",
        "# quant -> Term, Employees, Term_years, Jobs Retained, Jobs Generated\n",
        "\n",
        "#квантизация\n",
        "discTerm = QuantileDiscretizer(numBuckets=10, inputCol=\"Term\", outputCol=\"Term_quant\")\n",
        "discEmployees = QuantileDiscretizer(numBuckets=10, inputCol=\"Employees\", outputCol=\"Employees_quant\")\n",
        "discTerm_years = QuantileDiscretizer(numBuckets=5, inputCol=\"Term_years\", outputCol=\"Term_years_quant\")\n",
        "discJobs_R = QuantileDiscretizer(numBuckets=10, inputCol=\"Jobs Retained\", outputCol=\"Jobs_R_quant\")\n",
        "discJobs_G = QuantileDiscretizer(numBuckets=10, inputCol=\"Jobs Generated\", outputCol=\"Jobs_G_quant\")\n",
        "\n",
        "#собираем все в вектор\n",
        "feature_columns = [\"New Business\", \"Interest Rate\", \"Gross Disbursed Amount\",\n",
        "                   \"Male to Female Employees Ratio\", \"Funds available with company\", \n",
        "                   \"City or Rural\", \"Gross_Apprv_Amount\", \"Balance Left\", \"Final_Appved_Amount\",\n",
        "                   \"BankTypeVec\", \"BusOwnerVec\", \"BankStateVec\", \"CarryCreditVec\", \"DocsProvVec\",\n",
        "                   \"Term_quant\", \"Employees_quant\", \"Term_years_quant\", \"Jobs_R_quant\", \"Jobs_G_quant\"\n",
        "                   ]\n",
        "vector_assembler = VectorAssembler(inputCols = feature_columns, outputCol = 'features')\n",
        "\n",
        "lr = LogisticRegression(featuresCol='features', labelCol='Default_Status', predictionCol='prediction',\n",
        "                        maxIter=100, probabilityCol='proba')\n",
        "\n",
        "pipeline = Pipeline(stages=[BankType_indexer,\n",
        "                            BusOwner_indexer,\n",
        "                            BankState_indexer,\n",
        "                            Carry_indexer,\n",
        "                            Docs_indexer,\n",
        "                            ohe_encoder,\n",
        "                            discTerm,\n",
        "                            discEmployees,\n",
        "                            discTerm_years,\n",
        "                            discJobs_R,\n",
        "                            discJobs_G,\n",
        "                            vector_assembler,\n",
        "                            lr\n",
        "                            ]\n",
        "                    )\n",
        "pipeline.write().save('HW_pipeline')"
      ],
      "metadata": {
        "id": "U-FFwKWrt6VH"
      },
      "execution_count": 95,
      "outputs": []
    },
    {
      "cell_type": "code",
      "source": [
        "paramGrid = ParamGridBuilder().addGrid(discJobs_R.numBuckets, [5, 10])\\\n",
        "                              .addGrid(discJobs_G.numBuckets, [5, 10])\\\n",
        "                              .addGrid(lr.maxIter, [100, 70])\\\n",
        "                              .build()"
      ],
      "metadata": {
        "id": "-RwpcKR92Ciz"
      },
      "execution_count": 96,
      "outputs": []
    },
    {
      "cell_type": "code",
      "source": [
        "train, test = data.randomSplit([0.7, 0.3], seed=7)"
      ],
      "metadata": {
        "id": "ruFX59iO2mBf"
      },
      "execution_count": 97,
      "outputs": []
    },
    {
      "cell_type": "code",
      "source": [
        "crossval = CrossValidator(estimator=pipeline,\n",
        "                          estimatorParamMaps=paramGrid,\n",
        "                          evaluator=BinaryClassificationEvaluator(rawPredictionCol='prediction',\n",
        "                                                                  labelCol='Default_Status', metricName='areaUnderROC'),\n",
        "                          numFolds=5,\n",
        "                          parallelism=2)\n",
        "\n",
        "cvModel = crossval.fit(train)\n",
        "test_pred = cvModel.transform(test)\n",
        "test_pred.show(6)"
      ],
      "metadata": {
        "colab": {
          "base_uri": "https://localhost:8080/"
        },
        "id": "2Ji6tgaC2mFC",
        "outputId": "9c1c7abd-978e-4cff-8f0a-edf083c75efd"
      },
      "execution_count": 98,
      "outputs": [
        {
          "output_type": "stream",
          "name": "stdout",
          "text": [
            "+--------------+---------+--------------------+-------------+------------+----+-------------+-------------+---------+----------------------+----------+-------------+------------------------------+-----------------------+----------------------------+------------------+-------------+--------------+--------------------+------------------+------------+-------------------+--------------+-------------+-------------+--------------+----------------+-------------+-------------+-------------+--------------+--------------+-------------+----------+---------------+----------------+------------+------------+--------------------+--------------------+--------------------+----------+\n",
            "|Application ID|Bank Type|Business Owner State|Approved_Year|New Business|Term|    BankState|Interest Rate|Employees|Gross Disbursed Amount|Term_years|Jobs Retained|Male to Female Employees Ratio|Expected Company Income|Funds available with company|Gross_Apprv_Amount|City or Rural|Jobs Generated|Carry-forward Credit|Documents Provided|Balance Left|Final_Appved_Amount|Default_Status|BankTypeIndex|BusOwnerIndex|BankStateIndex|CarryCreditIndex|DocsProvIndex|  BankTypeVec|  BusOwnerVec|  BankStateVec|CarryCreditVec|  DocsProvVec|Term_quant|Employees_quant|Term_years_quant|Jobs_R_quant|Jobs_G_quant|            features|       rawPrediction|               proba|prediction|\n",
            "+--------------+---------+--------------------+-------------+------------+----+-------------+-------------+---------+----------------------+----------+-------------+------------------------------+-----------------------+----------------------------+------------------+-------------+--------------+--------------------+------------------+------------+-------------------+--------------+-------------+-------------+--------------+----------------+-------------+-------------+-------------+--------------+--------------+-------------+----------+---------------+----------------+------------+------------+--------------------+--------------------+--------------------+----------+\n",
            "|    1020200003|  Private|       Uttar Pradesh|         2007|           2|  84|  Maharashtra|            8|       16|               1750000|         7|           10|                             8|                1333333|                     2373333|           1750000|            2|             2|                   Y|                 N|           0|            1487500|             0|          0.0|          3.0|           1.0|             1.0|          0.0|(1,[0],[1.0])|(9,[3],[1.0])|(11,[1],[1.0])|     (1,[],[])|(1,[0],[1.0])|       4.0|            6.0|             2.0|         3.0|         2.0|(37,[0,1,2,3,4,5,...|[1.81553553037120...|[0.86002956325981...|       0.0|\n",
            "|    1020200006|  Private|         Maharashtra|         2009|           1|  84|  Maharashtra|            6|       10|              10500000|         7|            0|                            16|                 833333|                      392186|          10500000|            2|             0|                   N|                 Y|           0|            7875000|             0|          0.0|          2.0|           1.0|             0.0|          1.0|(1,[0],[1.0])|(9,[2],[1.0])|(11,[1],[1.0])| (1,[0],[1.0])|    (1,[],[])|       4.0|            5.0|             2.0|         1.0|         1.0|(37,[0,1,2,3,4,5,...|[2.40301480739477...|[0.91705690893261...|       0.0|\n",
            "|    1020200008|  Private|       Uttar Pradesh|         2006|           1|  60|        Delhi|            6|        6|               3500000|         5|            2|                             5|                 500000|                     1525676|           3500000|            0|             0|                   N|                 N|           0|            1750000|             0|          0.0|          3.0|           0.0|             0.0|          0.0|(1,[0],[1.0])|(9,[3],[1.0])|(11,[0],[1.0])| (1,[0],[1.0])|(1,[0],[1.0])|       2.0|            3.0|             1.0|         2.0|         1.0|(37,[0,1,2,3,4,6,...|[1.17734086554576...|[0.76446934750645...|       0.0|\n",
            "|    1020200010|  Private|         Maharashtra|         2017|           1| 120|        Delhi|           12|       60|              42000000|        10|            0|                            10|                5000000|                     1186740|          42000000|            0|             0|                   N|                 N|           0|           31500000|             0|          0.0|          2.0|           0.0|             0.0|          0.0|(1,[0],[1.0])|(9,[2],[1.0])|(11,[0],[1.0])| (1,[0],[1.0])|(1,[0],[1.0])|       5.0|            8.0|             2.0|         1.0|         1.0|(37,[0,1,2,3,4,6,...|[2.30850153947890...|[0.90957868958088...|       0.0|\n",
            "|    1020200011|     Govt|       Uttar Pradesh|         2010|           1| 303|Uttar Pradesh|            8|        8|               9800000|        25|            0|                            21|               33600000|                     1547232|           9800000|            0|             0|                   N|                 N|           0|            7350000|             1|          1.0|          3.0|           3.0|             0.0|          0.0|    (1,[],[])|(9,[3],[1.0])|(11,[3],[1.0])| (1,[0],[1.0])|(1,[0],[1.0])|       7.0|            4.0|             3.0|         1.0|         1.0|(37,[0,1,2,3,4,6,...|[3.07645159785049...|[0.95591087793058...|       0.0|\n",
            "|    1020200013|     Govt|               Delhi|         2010|           1|  24|        Delhi|           11|        5|               7910000|         2|            0|                            33|               33000000|                      267120|           7910000|            0|             0|                   N|                 N|           0|            5932500|             0|          1.0|          0.0|           0.0|             0.0|          0.0|    (1,[],[])|(9,[0],[1.0])|(11,[0],[1.0])| (1,[0],[1.0])|(1,[0],[1.0])|       0.0|            3.0|             0.0|         1.0|         1.0|(37,[0,1,2,3,4,6,...|[0.41790029662721...|[0.60298070027790...|       0.0|\n",
            "+--------------+---------+--------------------+-------------+------------+----+-------------+-------------+---------+----------------------+----------+-------------+------------------------------+-----------------------+----------------------------+------------------+-------------+--------------+--------------------+------------------+------------+-------------------+--------------+-------------+-------------+--------------+----------------+-------------+-------------+-------------+--------------+--------------+-------------+----------+---------------+----------------+------------+------------+--------------------+--------------------+--------------------+----------+\n",
            "only showing top 6 rows\n",
            "\n"
          ]
        }
      ]
    },
    {
      "cell_type": "code",
      "source": [
        "evaluator = BinaryClassificationEvaluator(rawPredictionCol='prediction',\n",
        "                                          labelCol='Default_Status', metricName='areaUnderROC')\n",
        "evaluator.evaluate(test_pred)"
      ],
      "metadata": {
        "colab": {
          "base_uri": "https://localhost:8080/"
        },
        "id": "a16wJ8JL2mGy",
        "outputId": "ed44e608-35ba-4e88-a868-2cf933351bde"
      },
      "execution_count": 99,
      "outputs": [
        {
          "output_type": "execute_result",
          "data": {
            "text/plain": [
              "0.5141579921660675"
            ]
          },
          "metadata": {},
          "execution_count": 99
        }
      ]
    },
    {
      "cell_type": "code",
      "source": [
        "cvModel.write().save('HW_model')"
      ],
      "metadata": {
        "id": "LNwDuA8F3e_p"
      },
      "execution_count": 100,
      "outputs": []
    },
    {
      "cell_type": "code",
      "source": [
        ""
      ],
      "metadata": {
        "id": "G32n8o_h4F_7"
      },
      "execution_count": null,
      "outputs": []
    }
  ],
  "metadata": {
    "colab": {
      "collapsed_sections": [],
      "name": "PySpark_MLlib.ipynb",
      "provenance": []
    },
    "kernelspec": {
      "display_name": "Python 3",
      "language": "python",
      "name": "python3"
    },
    "language_info": {
      "codemirror_mode": {
        "name": "ipython",
        "version": 3
      },
      "file_extension": ".py",
      "mimetype": "text/x-python",
      "name": "python",
      "nbconvert_exporter": "python",
      "pygments_lexer": "ipython3",
      "version": "3.8.8"
    }
  },
  "nbformat": 4,
  "nbformat_minor": 0
}